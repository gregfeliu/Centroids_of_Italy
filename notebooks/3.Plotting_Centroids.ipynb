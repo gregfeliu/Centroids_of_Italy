{
 "cells": [
  {
   "cell_type": "markdown",
   "metadata": {},
   "source": [
    "# Imports"
   ]
  },
  {
   "cell_type": "markdown",
   "metadata": {},
   "source": [
    "## Libraries"
   ]
  },
  {
   "cell_type": "code",
   "execution_count": 106,
   "metadata": {
    "ExecuteTime": {
     "end_time": "2020-11-18T22:35:22.427376Z",
     "start_time": "2020-11-18T22:35:22.423373Z"
    }
   },
   "outputs": [],
   "source": [
    "import geopandas as gpd\n",
    "import geoplot as gplt\n",
    "import geoplot.crs as gcrs\n",
    "import warnings\n",
    "warnings.filterwarnings('ignore')\n",
    "from shapely.geometry import Point"
   ]
  },
  {
   "cell_type": "markdown",
   "metadata": {},
   "source": [
    "## Data"
   ]
  },
  {
   "cell_type": "code",
   "execution_count": 107,
   "metadata": {
    "ExecuteTime": {
     "end_time": "2020-11-18T22:35:22.536236Z",
     "start_time": "2020-11-18T22:35:22.429812Z"
    }
   },
   "outputs": [],
   "source": [
    "provinces_gdf = gpd.read_file(\"../data/provinces_gdf.geojson\", driver='geojson')"
   ]
  },
  {
   "cell_type": "markdown",
   "metadata": {},
   "source": [
    "# Centroids"
   ]
  },
  {
   "cell_type": "markdown",
   "metadata": {},
   "source": [
    "## Calculate centroid for each region in italy "
   ]
  },
  {
   "cell_type": "markdown",
   "metadata": {},
   "source": [
    "There are *two* centroids I'll be plotting: one is a **geographic centroid** which is the true center of a regional unit. The other is a **\"weighted mean population centroid,\"** which shows the center of the *population* in a regional unit. "
   ]
  },
  {
   "cell_type": "markdown",
   "metadata": {},
   "source": [
    "- Steps to getting the population weighted mean centroid\n",
    "    - find geographic centroid for each province \n",
    "    - group the provinces into a larger unit (macroregion, cultural region, all of italy)\n",
    "    - assign a weight (i.e.: the population) to each province\n",
    "    - find the numerator: multiply each latitude and longitude by the weight \n",
    "    - find the denominator: multiply a weight by the number of units in the smaller geometry\n",
    "    - sum up all of the numerators and denominators for a given regional unit\n",
    "    - divide the numerator by the denominator\n",
    "    - plot results next to the geographic centroid"
   ]
  },
  {
   "cell_type": "markdown",
   "metadata": {},
   "source": [
    "## Regions"
   ]
  },
  {
   "cell_type": "markdown",
   "metadata": {},
   "source": [
    "### Getting Region Geometries"
   ]
  },
  {
   "cell_type": "code",
   "execution_count": 108,
   "metadata": {
    "ExecuteTime": {
     "end_time": "2020-11-18T22:35:22.653183Z",
     "start_time": "2020-11-18T22:35:22.538285Z"
    }
   },
   "outputs": [],
   "source": [
    "region_gemoetries = provinces_gdf.dissolve(by='Region')"
   ]
  },
  {
   "cell_type": "markdown",
   "metadata": {},
   "source": [
    "### Finding Geographic centroid"
   ]
  },
  {
   "cell_type": "code",
   "execution_count": 109,
   "metadata": {
    "ExecuteTime": {
     "end_time": "2020-11-18T22:35:22.772840Z",
     "start_time": "2020-11-18T22:35:22.655252Z"
    }
   },
   "outputs": [],
   "source": [
    "# combining the data by region and then finding the centroid of that combined geometry\n",
    "region_geo_centroids = provinces_gdf.dissolve(by='Region')\n",
    "region_geo_centroids['geometry'] = region_geo_centroids['geometry'].centroid"
   ]
  },
  {
   "cell_type": "markdown",
   "metadata": {},
   "source": [
    "### Getting Weighted population centroids"
   ]
  },
  {
   "cell_type": "code",
   "execution_count": 110,
   "metadata": {
    "ExecuteTime": {
     "end_time": "2020-11-18T22:35:22.778324Z",
     "start_time": "2020-11-18T22:35:22.774561Z"
    }
   },
   "outputs": [],
   "source": [
    "# finding sum of population for each region\n",
    "region_pop_sum = provinces_gdf.groupby('Region').Population.sum()"
   ]
  },
  {
   "cell_type": "code",
   "execution_count": 111,
   "metadata": {
    "ExecuteTime": {
     "end_time": "2020-11-18T22:35:22.795187Z",
     "start_time": "2020-11-18T22:35:22.779956Z"
    }
   },
   "outputs": [],
   "source": [
    "# finding weighted lat and lon for each region\n",
    "provinces_gdf['Weighted_region_centroid_lat'] = [provinces_gdf['Pop_weighted_lat'][x] / \\\n",
    "                                                 region_pop_sum[provinces_gdf['Region'][x]] \n",
    "                                                for x in range(len(provinces_gdf))]\n",
    "provinces_gdf['Weighted_region_centroid_lon'] = [provinces_gdf['Pop_weighted_lon'][x] / \\\n",
    "                                                 region_pop_sum[provinces_gdf['Region'][x]] \n",
    "                                                for x in range(len(provinces_gdf))]"
   ]
  },
  {
   "cell_type": "code",
   "execution_count": 112,
   "metadata": {
    "ExecuteTime": {
     "end_time": "2020-11-18T22:35:22.806284Z",
     "start_time": "2020-11-18T22:35:22.797975Z"
    }
   },
   "outputs": [],
   "source": [
    "# sum up all of the weighted coords and recombine\n",
    "region_coord_sum = provinces_gdf.groupby('Region') \\\n",
    "                    ['Weighted_region_centroid_lat','Weighted_region_centroid_lon'].sum()\n",
    "\n",
    "region_coord_sum['Weighted_centroid_coords'] = list(zip(region_coord_sum['Weighted_region_centroid_lat'], \n",
    "                                                   region_coord_sum['Weighted_region_centroid_lon']))\n",
    "region_coord_sum['geometry'] = [Point(x) for x in region_coord_sum['Weighted_centroid_coords']]"
   ]
  },
  {
   "cell_type": "code",
   "execution_count": 113,
   "metadata": {
    "ExecuteTime": {
     "end_time": "2020-11-18T22:35:22.811730Z",
     "start_time": "2020-11-18T22:35:22.808852Z"
    }
   },
   "outputs": [],
   "source": [
    "# making it into a geodataframe\n",
    "region_pop_weighted_gdf = gpd.GeoDataFrame(region_coord_sum)"
   ]
  },
  {
   "cell_type": "markdown",
   "metadata": {},
   "source": [
    "### Plot "
   ]
  },
  {
   "cell_type": "code",
   "execution_count": 143,
   "metadata": {
    "ExecuteTime": {
     "end_time": "2020-11-18T22:36:20.341969Z",
     "start_time": "2020-11-18T22:36:20.155302Z"
    },
    "scrolled": true
   },
   "outputs": [
    {
     "data": {
      "text/plain": [
       "<AxesSubplot:>"
      ]
     },
     "execution_count": 143,
     "metadata": {},
     "output_type": "execute_result"
    },
    {
     "data": {
      "image/png": "[encoded data removed]",
      "text/plain": [
       "<Figure size 360x360 with 1 Axes>"
      ]
     },
     "metadata": {
      "needs_background": "light"
     },
     "output_type": "display_data"
    }
   ],
   "source": [
    "# green is population center while black is geo center\n",
    "ax1 = region_geo_centroids.plot(color='black', figsize=(5,5))\n",
    "region_pop_weighted_gdf.plot(figsize=(5,5), ax=ax1, color='green')\n",
    "gplt.polyplot(region_gemoetries, facecolor='white', edgecolor='grey', ax=ax1, figsize=(5,5))"
   ]
  },
  {
   "cell_type": "markdown",
   "metadata": {},
   "source": [
    "### Which regional centers are furthest/closest to the geographic center?"
   ]
  },
  {
   "cell_type": "markdown",
   "metadata": {},
   "source": [
    "**SMALLEST DISTANCE**: Aosta Valley (upper left-most region) has the lowest distance between centroids since it has only one province in the region"
   ]
  },
  {
   "cell_type": "code",
   "execution_count": 115,
   "metadata": {
    "ExecuteTime": {
     "end_time": "2020-11-18T22:35:23.009097Z",
     "start_time": "2020-11-18T22:35:22.992946Z"
    },
    "scrolled": true
   },
   "outputs": [
    {
     "data": {
      "text/html": [
       "<div>\n",
       "<style scoped>\n",
       "    .dataframe tbody tr th:only-of-type {\n",
       "        vertical-align: middle;\n",
       "    }\n",
       "\n",
       "    .dataframe tbody tr th {\n",
       "        vertical-align: top;\n",
       "    }\n",
       "\n",
       "    .dataframe thead th {\n",
       "        text-align: right;\n",
       "    }\n",
       "</style>\n",
       "<table border=\"1\" class=\"dataframe\">\n",
       "  <thead>\n",
       "    <tr style=\"text-align: right;\">\n",
       "      <th></th>\n",
       "      <th>Weighted_region_centroid_lat</th>\n",
       "      <th>Weighted_region_centroid_lon</th>\n",
       "      <th>Weighted_centroid_coords</th>\n",
       "      <th>geometry</th>\n",
       "      <th>Geographic_centroid</th>\n",
       "      <th>Distance_bn_centroids</th>\n",
       "    </tr>\n",
       "    <tr>\n",
       "      <th>Region</th>\n",
       "      <th></th>\n",
       "      <th></th>\n",
       "      <th></th>\n",
       "      <th></th>\n",
       "      <th></th>\n",
       "      <th></th>\n",
       "    </tr>\n",
       "  </thead>\n",
       "  <tbody>\n",
       "    <tr>\n",
       "      <th>Apulia</th>\n",
       "      <td>16.949857</td>\n",
       "      <td>40.812992</td>\n",
       "      <td>(16.94985665711923, 40.8129922094144)</td>\n",
       "      <td>POINT (16.94986 40.81299)</td>\n",
       "      <td>POINT (16.62105 40.98575)</td>\n",
       "      <td>0.37143</td>\n",
       "    </tr>\n",
       "  </tbody>\n",
       "</table>\n",
       "</div>"
      ],
      "text/plain": [
       "        Weighted_region_centroid_lat  Weighted_region_centroid_lon  \\\n",
       "Region                                                               \n",
       "Apulia                     16.949857                     40.812992   \n",
       "\n",
       "                     Weighted_centroid_coords                   geometry  \\\n",
       "Region                                                                     \n",
       "Apulia  (16.94985665711923, 40.8129922094144)  POINT (16.94986 40.81299)   \n",
       "\n",
       "              Geographic_centroid  Distance_bn_centroids  \n",
       "Region                                                    \n",
       "Apulia  POINT (16.62105 40.98575)                0.37143  "
      ]
     },
     "execution_count": 115,
     "metadata": {},
     "output_type": "execute_result"
    }
   ],
   "source": [
    "# finding largest distance\n",
    "region_pop_weighted_gdf['Geographic_centroid'] = region_geo_centroids.geometry\n",
    "region_pop_weighted_gdf['Distance_bn_centroids'] = region_pop_weighted_gdf.geometry.distance(\n",
    "    region_pop_weighted_gdf['Geographic_centroid'])\n",
    "max_distance = region_pop_weighted_gdf['Distance_bn_centroids'].max()\n",
    "region_pop_weighted_gdf[region_pop_weighted_gdf['Distance_bn_centroids'] == max_distance]"
   ]
  },
  {
   "cell_type": "markdown",
   "metadata": {},
   "source": [
    "**LARGEST DISTANCE**: Apulia (lower right-most region) has the furthest distance between centroids."
   ]
  },
  {
   "cell_type": "markdown",
   "metadata": {},
   "source": [
    "## Macroregions"
   ]
  },
  {
   "cell_type": "markdown",
   "metadata": {},
   "source": [
    "### Getting Macroregion Geometries"
   ]
  },
  {
   "cell_type": "code",
   "execution_count": 116,
   "metadata": {
    "ExecuteTime": {
     "end_time": "2020-11-18T22:35:23.157932Z",
     "start_time": "2020-11-18T22:35:23.010826Z"
    }
   },
   "outputs": [],
   "source": [
    "macroregion_gemoetries = provinces_gdf.dissolve(by='Macroregion')"
   ]
  },
  {
   "cell_type": "markdown",
   "metadata": {},
   "source": [
    "### Finding Geographic Centroids"
   ]
  },
  {
   "cell_type": "code",
   "execution_count": 117,
   "metadata": {
    "ExecuteTime": {
     "end_time": "2020-11-18T22:35:23.312960Z",
     "start_time": "2020-11-18T22:35:23.159688Z"
    }
   },
   "outputs": [],
   "source": [
    "macroregion_geo_centroids = provinces_gdf.dissolve(by='Macroregion')\n",
    "macroregion_geo_centroids['geometry'] = macroregion_geo_centroids['geometry'].centroid"
   ]
  },
  {
   "cell_type": "markdown",
   "metadata": {},
   "source": [
    "### Getting Weighted Population Centroids"
   ]
  },
  {
   "cell_type": "code",
   "execution_count": 118,
   "metadata": {
    "ExecuteTime": {
     "end_time": "2020-11-18T22:35:23.318471Z",
     "start_time": "2020-11-18T22:35:23.314750Z"
    }
   },
   "outputs": [],
   "source": [
    "# finding sum of population for each region\n",
    "macroregion_pop_sum = provinces_gdf.groupby('Macroregion').Population.sum()"
   ]
  },
  {
   "cell_type": "code",
   "execution_count": 119,
   "metadata": {
    "ExecuteTime": {
     "end_time": "2020-11-18T22:35:23.334347Z",
     "start_time": "2020-11-18T22:35:23.320334Z"
    }
   },
   "outputs": [],
   "source": [
    "# finding weighted lat and lon for each region\n",
    "provinces_gdf['Weighted_macroregion_centroid_lat'] = [provinces_gdf['Pop_weighted_lat'][x] / \\\n",
    "                                                 macroregion_pop_sum[provinces_gdf['Macroregion'][x]] \n",
    "                                                for x in range(len(provinces_gdf))]\n",
    "provinces_gdf['Weighted_macroregion_centroid_lon'] = [provinces_gdf['Pop_weighted_lon'][x] / \\\n",
    "                                                 macroregion_pop_sum[provinces_gdf['Macroregion'][x]] \n",
    "                                                for x in range(len(provinces_gdf))]"
   ]
  },
  {
   "cell_type": "code",
   "execution_count": 120,
   "metadata": {
    "ExecuteTime": {
     "end_time": "2020-11-18T22:35:23.343950Z",
     "start_time": "2020-11-18T22:35:23.336128Z"
    }
   },
   "outputs": [],
   "source": [
    "# sum up all of the weighted coords and recombine\n",
    "macroregion_coord_sum = provinces_gdf.groupby('Macroregion') \\\n",
    "                    ['Weighted_macroregion_centroid_lat','Weighted_macroregion_centroid_lon'].sum()\n",
    "macroregion_coord_sum['Weighted_centroid_coords'] = list(zip(\n",
    "                                                    macroregion_coord_sum['Weighted_macroregion_centroid_lat'], \n",
    "                                                   macroregion_coord_sum['Weighted_macroregion_centroid_lon']))\n",
    "macroregion_coord_sum['geometry'] = [Point(x) for x in macroregion_coord_sum['Weighted_centroid_coords']]"
   ]
  },
  {
   "cell_type": "code",
   "execution_count": 121,
   "metadata": {
    "ExecuteTime": {
     "end_time": "2020-11-18T22:35:23.348432Z",
     "start_time": "2020-11-18T22:35:23.345563Z"
    }
   },
   "outputs": [],
   "source": [
    "# making it into a geodataframe\n",
    "macroregion_pop_weighted_gdf = gpd.GeoDataFrame(macroregion_coord_sum)"
   ]
  },
  {
   "cell_type": "markdown",
   "metadata": {},
   "source": [
    "### Plot"
   ]
  },
  {
   "cell_type": "code",
   "execution_count": 122,
   "metadata": {
    "ExecuteTime": {
     "end_time": "2020-11-18T22:35:23.517764Z",
     "start_time": "2020-11-18T22:35:23.350019Z"
    }
   },
   "outputs": [
    {
     "data": {
      "text/plain": [
       "<AxesSubplot:>"
      ]
     },
     "execution_count": 122,
     "metadata": {},
     "output_type": "execute_result"
    },
    {
     "data": {
      "image/png": "[encoded data removed]",
      "text/plain": [
       "<Figure size 576x576 with 1 Axes>"
      ]
     },
     "metadata": {
      "needs_background": "light"
     },
     "output_type": "display_data"
    }
   ],
   "source": [
    "# green is population center while black is geo center\n",
    "ax2 = macroregion_geo_centroids.plot(color='black', figsize=(8,8))\n",
    "macroregion_pop_weighted_gdf.plot(figsize=(8,8), ax=ax2, color='green')\n",
    "gplt.polyplot(macroregion_gemoetries, facecolor='white', edgecolor='grey', ax=ax2, figsize=(8,8))"
   ]
  },
  {
   "cell_type": "markdown",
   "metadata": {},
   "source": [
    "## Cultural Regions"
   ]
  },
  {
   "cell_type": "markdown",
   "metadata": {},
   "source": [
    "### Getting Cultural Geometries"
   ]
  },
  {
   "cell_type": "code",
   "execution_count": 123,
   "metadata": {
    "ExecuteTime": {
     "end_time": "2020-11-18T22:35:23.675004Z",
     "start_time": "2020-11-18T22:35:23.519892Z"
    }
   },
   "outputs": [],
   "source": [
    "cultural_region_geometries = provinces_gdf.dissolve(by='Cultural_region')"
   ]
  },
  {
   "cell_type": "markdown",
   "metadata": {},
   "source": [
    "### Finding Geographic Centroids"
   ]
  },
  {
   "cell_type": "code",
   "execution_count": 124,
   "metadata": {
    "ExecuteTime": {
     "end_time": "2020-11-18T22:35:23.844467Z",
     "start_time": "2020-11-18T22:35:23.680546Z"
    }
   },
   "outputs": [],
   "source": [
    "cultural_region_centroids = provinces_gdf.dissolve(by='Cultural_region')\n",
    "cultural_region_centroids['geometry'] = cultural_region_centroids['geometry'].centroid"
   ]
  },
  {
   "cell_type": "markdown",
   "metadata": {},
   "source": [
    "### Getting Weighted Population Centroids"
   ]
  },
  {
   "cell_type": "code",
   "execution_count": 125,
   "metadata": {
    "ExecuteTime": {
     "end_time": "2020-11-18T22:35:23.852290Z",
     "start_time": "2020-11-18T22:35:23.848161Z"
    }
   },
   "outputs": [],
   "source": [
    "# finding sum of population for each region\n",
    "cultural_region_pop_sum = provinces_gdf.groupby('Cultural_region').Population.sum()"
   ]
  },
  {
   "cell_type": "code",
   "execution_count": 126,
   "metadata": {
    "ExecuteTime": {
     "end_time": "2020-11-18T22:35:23.868905Z",
     "start_time": "2020-11-18T22:35:23.853938Z"
    }
   },
   "outputs": [],
   "source": [
    "# finding weighted lat and lon for each region\n",
    "provinces_gdf['Weighted_cult_region_centroid_lat'] = [provinces_gdf['Pop_weighted_lat'][x] / \\\n",
    "                                                 cultural_region_pop_sum[provinces_gdf['Cultural_region'][x]] \n",
    "                                                for x in range(len(provinces_gdf))]\n",
    "provinces_gdf['Weighted_cult_region_centroid_lon'] = [provinces_gdf['Pop_weighted_lon'][x] / \\\n",
    "                                                 cultural_region_pop_sum[provinces_gdf['Cultural_region'][x]] \n",
    "                                                for x in range(len(provinces_gdf))]"
   ]
  },
  {
   "cell_type": "code",
   "execution_count": 127,
   "metadata": {
    "ExecuteTime": {
     "end_time": "2020-11-18T22:35:23.878435Z",
     "start_time": "2020-11-18T22:35:23.870556Z"
    }
   },
   "outputs": [],
   "source": [
    "# sum up all of the weighted coords and recombine\n",
    "cult_region_coord_sum = provinces_gdf.groupby('Cultural_region') \\\n",
    "                    ['Weighted_cult_region_centroid_lat','Weighted_cult_region_centroid_lon'].sum()\n",
    "cult_region_coord_sum['Weighted_centroid_coords'] = list(zip(\n",
    "                                                    cult_region_coord_sum['Weighted_cult_region_centroid_lat'], \n",
    "                                                   cult_region_coord_sum['Weighted_cult_region_centroid_lon']))\n",
    "cult_region_coord_sum['geometry'] = [Point(x) for x in cult_region_coord_sum['Weighted_centroid_coords']]"
   ]
  },
  {
   "cell_type": "code",
   "execution_count": 128,
   "metadata": {
    "ExecuteTime": {
     "end_time": "2020-11-18T22:35:23.883237Z",
     "start_time": "2020-11-18T22:35:23.879918Z"
    }
   },
   "outputs": [],
   "source": [
    "# making it into a geodataframe\n",
    "cult_region_pop_weighted_gdf = gpd.GeoDataFrame(cult_region_coord_sum)"
   ]
  },
  {
   "cell_type": "markdown",
   "metadata": {},
   "source": [
    "### Plot"
   ]
  },
  {
   "cell_type": "code",
   "execution_count": 142,
   "metadata": {
    "ExecuteTime": {
     "end_time": "2020-11-18T22:36:04.180145Z",
     "start_time": "2020-11-18T22:36:04.015701Z"
    },
    "scrolled": true
   },
   "outputs": [
    {
     "data": {
      "text/plain": [
       "<AxesSubplot:>"
      ]
     },
     "execution_count": 142,
     "metadata": {},
     "output_type": "execute_result"
    },
    {
     "data": {
      "image/png": "[encoded data removed]",
      "text/plain": [
       "<Figure size 360x360 with 1 Axes>"
      ]
     },
     "metadata": {
      "needs_background": "light"
     },
     "output_type": "display_data"
    }
   ],
   "source": [
    "# green is population center while black is geo center\n",
    "ax3 = cultural_region_centroids.plot(color='black', figsize=(5,5))\n",
    "cult_region_pop_weighted_gdf.plot(figsize=(5,5), ax=ax3, color='green')\n",
    "gplt.polyplot(cultural_region_geometries, facecolor='white', edgecolor='grey', ax=ax3, figsize=(5,5))"
   ]
  },
  {
   "cell_type": "markdown",
   "metadata": {},
   "source": [
    "## All of Italy"
   ]
  },
  {
   "cell_type": "markdown",
   "metadata": {},
   "source": [
    "### Getting Italy's Geometry"
   ]
  },
  {
   "cell_type": "code",
   "execution_count": 130,
   "metadata": {
    "ExecuteTime": {
     "end_time": "2020-11-18T22:35:24.222542Z",
     "start_time": "2020-11-18T22:35:24.056644Z"
    }
   },
   "outputs": [],
   "source": [
    "italy_geometry = provinces_gdf.dissolve(by='Country')"
   ]
  },
  {
   "cell_type": "markdown",
   "metadata": {},
   "source": [
    "### Finding Geographic Centroids"
   ]
  },
  {
   "cell_type": "code",
   "execution_count": 131,
   "metadata": {
    "ExecuteTime": {
     "end_time": "2020-11-18T22:35:24.405525Z",
     "start_time": "2020-11-18T22:35:24.224456Z"
    }
   },
   "outputs": [],
   "source": [
    "italy_centroid = provinces_gdf.dissolve(by='Country')\n",
    "italy_centroid['geometry'] = italy_centroid['geometry'].centroid"
   ]
  },
  {
   "cell_type": "markdown",
   "metadata": {},
   "source": [
    "### Getting Weighted Population Centroids"
   ]
  },
  {
   "cell_type": "code",
   "execution_count": 132,
   "metadata": {
    "ExecuteTime": {
     "end_time": "2020-11-18T22:35:24.411599Z",
     "start_time": "2020-11-18T22:35:24.407012Z"
    }
   },
   "outputs": [],
   "source": [
    "# finding sum of population for each region\n",
    "italy_pop_sum = provinces_gdf.groupby('Country').Population.sum()"
   ]
  },
  {
   "cell_type": "code",
   "execution_count": 133,
   "metadata": {
    "ExecuteTime": {
     "end_time": "2020-11-18T22:35:24.428691Z",
     "start_time": "2020-11-18T22:35:24.413457Z"
    }
   },
   "outputs": [],
   "source": [
    "# finding weighted lat and lon for each region\n",
    "provinces_gdf['Weighted_country_centroid_lat'] = [provinces_gdf['Pop_weighted_lat'][x] / \\\n",
    "                                                 italy_pop_sum[provinces_gdf['Country'][x]] \n",
    "                                                for x in range(len(provinces_gdf))]\n",
    "provinces_gdf['Weighted_country_centroid_lon'] = [provinces_gdf['Pop_weighted_lon'][x] / \\\n",
    "                                                 italy_pop_sum[provinces_gdf['Country'][x]] \n",
    "                                                for x in range(len(provinces_gdf))]"
   ]
  },
  {
   "cell_type": "code",
   "execution_count": 134,
   "metadata": {
    "ExecuteTime": {
     "end_time": "2020-11-18T22:35:24.438116Z",
     "start_time": "2020-11-18T22:35:24.430382Z"
    }
   },
   "outputs": [],
   "source": [
    "# sum up all of the weighted coords and recombine\n",
    "country_coord_sum = provinces_gdf.groupby('Country') \\\n",
    "                    ['Weighted_country_centroid_lat','Weighted_country_centroid_lon'].sum()\n",
    "country_coord_sum['Weighted_centroid_coords'] = list(zip(\n",
    "                                                    country_coord_sum['Weighted_country_centroid_lat'], \n",
    "                                                   country_coord_sum['Weighted_country_centroid_lon']))\n",
    "country_coord_sum['geometry'] = [Point(x) for x in country_coord_sum['Weighted_centroid_coords']]"
   ]
  },
  {
   "cell_type": "code",
   "execution_count": 135,
   "metadata": {
    "ExecuteTime": {
     "end_time": "2020-11-18T22:35:24.443161Z",
     "start_time": "2020-11-18T22:35:24.439934Z"
    }
   },
   "outputs": [],
   "source": [
    "# making it into a geodataframe\n",
    "country_pop_weighted_gdf = gpd.GeoDataFrame(country_coord_sum)"
   ]
  },
  {
   "cell_type": "code",
   "execution_count": 136,
   "metadata": {
    "ExecuteTime": {
     "end_time": "2020-11-18T22:35:24.453661Z",
     "start_time": "2020-11-18T22:35:24.444901Z"
    }
   },
   "outputs": [
    {
     "data": {
      "text/html": [
       "<div>\n",
       "<style scoped>\n",
       "    .dataframe tbody tr th:only-of-type {\n",
       "        vertical-align: middle;\n",
       "    }\n",
       "\n",
       "    .dataframe tbody tr th {\n",
       "        vertical-align: top;\n",
       "    }\n",
       "\n",
       "    .dataframe thead th {\n",
       "        text-align: right;\n",
       "    }\n",
       "</style>\n",
       "<table border=\"1\" class=\"dataframe\">\n",
       "  <thead>\n",
       "    <tr style=\"text-align: right;\">\n",
       "      <th></th>\n",
       "      <th>Weighted_country_centroid_lat</th>\n",
       "      <th>Weighted_country_centroid_lon</th>\n",
       "      <th>Weighted_centroid_coords</th>\n",
       "      <th>geometry</th>\n",
       "    </tr>\n",
       "    <tr>\n",
       "      <th>Country</th>\n",
       "      <th></th>\n",
       "      <th></th>\n",
       "      <th></th>\n",
       "      <th></th>\n",
       "    </tr>\n",
       "  </thead>\n",
       "  <tbody>\n",
       "    <tr>\n",
       "      <th>Italy</th>\n",
       "      <td>12.061933</td>\n",
       "      <td>42.939056</td>\n",
       "      <td>(12.06193324270437, 42.939055815900794)</td>\n",
       "      <td>POINT (12.06193 42.93906)</td>\n",
       "    </tr>\n",
       "  </tbody>\n",
       "</table>\n",
       "</div>"
      ],
      "text/plain": [
       "         Weighted_country_centroid_lat  Weighted_country_centroid_lon  \\\n",
       "Country                                                                 \n",
       "Italy                        12.061933                      42.939056   \n",
       "\n",
       "                        Weighted_centroid_coords                   geometry  \n",
       "Country                                                                      \n",
       "Italy    (12.06193324270437, 42.939055815900794)  POINT (12.06193 42.93906)  "
      ]
     },
     "execution_count": 136,
     "metadata": {},
     "output_type": "execute_result"
    }
   ],
   "source": [
    "country_pop_weighted_gdf"
   ]
  },
  {
   "cell_type": "markdown",
   "metadata": {},
   "source": [
    "### Plot"
   ]
  },
  {
   "cell_type": "code",
   "execution_count": 137,
   "metadata": {
    "ExecuteTime": {
     "end_time": "2020-11-18T22:35:24.471298Z",
     "start_time": "2020-11-18T22:35:24.455366Z"
    }
   },
   "outputs": [
    {
     "data": {
      "text/html": [
       "<div>\n",
       "<style scoped>\n",
       "    .dataframe tbody tr th:only-of-type {\n",
       "        vertical-align: middle;\n",
       "    }\n",
       "\n",
       "    .dataframe tbody tr th {\n",
       "        vertical-align: top;\n",
       "    }\n",
       "\n",
       "    .dataframe thead th {\n",
       "        text-align: right;\n",
       "    }\n",
       "</style>\n",
       "<table border=\"1\" class=\"dataframe\">\n",
       "  <thead>\n",
       "    <tr style=\"text-align: right;\">\n",
       "      <th></th>\n",
       "      <th>geometry</th>\n",
       "      <th>Code</th>\n",
       "      <th>name</th>\n",
       "      <th>Province</th>\n",
       "      <th>Region</th>\n",
       "      <th>Macroregion</th>\n",
       "      <th>Population</th>\n",
       "      <th>Area</th>\n",
       "      <th>Density</th>\n",
       "      <th>Cultural_region</th>\n",
       "      <th>Pop_weighted_lat</th>\n",
       "      <th>Pop_weighted_lon</th>\n",
       "      <th>Weighted_region_centroid_lat</th>\n",
       "      <th>Weighted_region_centroid_lon</th>\n",
       "      <th>Weighted_macroregion_centroid_lat</th>\n",
       "      <th>Weighted_macroregion_centroid_lon</th>\n",
       "      <th>Weighted_cult_region_centroid_lat</th>\n",
       "      <th>Weighted_cult_region_centroid_lon</th>\n",
       "    </tr>\n",
       "    <tr>\n",
       "      <th>Country</th>\n",
       "      <th></th>\n",
       "      <th></th>\n",
       "      <th></th>\n",
       "      <th></th>\n",
       "      <th></th>\n",
       "      <th></th>\n",
       "      <th></th>\n",
       "      <th></th>\n",
       "      <th></th>\n",
       "      <th></th>\n",
       "      <th></th>\n",
       "      <th></th>\n",
       "      <th></th>\n",
       "      <th></th>\n",
       "      <th></th>\n",
       "      <th></th>\n",
       "      <th></th>\n",
       "      <th></th>\n",
       "    </tr>\n",
       "  </thead>\n",
       "  <tbody>\n",
       "    <tr>\n",
       "      <th>Italy</th>\n",
       "      <td>POINT (12.07191 42.78643)</td>\n",
       "      <td>AG</td>\n",
       "      <td>Agrigento</td>\n",
       "      <td>Agrigento</td>\n",
       "      <td>Sicily</td>\n",
       "      <td>Insular</td>\n",
       "      <td>434870</td>\n",
       "      <td>3053</td>\n",
       "      <td>144</td>\n",
       "      <td>South</td>\n",
       "      <td>5.872772e+06</td>\n",
       "      <td>1.627845e+07</td>\n",
       "      <td>1.17458</td>\n",
       "      <td>3.255761</td>\n",
       "      <td>0.866149</td>\n",
       "      <td>2.400835</td>\n",
       "      <td>0.283185</td>\n",
       "      <td>0.784947</td>\n",
       "    </tr>\n",
       "  </tbody>\n",
       "</table>\n",
       "</div>"
      ],
      "text/plain": [
       "                          geometry Code       name   Province  Region  \\\n",
       "Country                                                                 \n",
       "Italy    POINT (12.07191 42.78643)   AG  Agrigento  Agrigento  Sicily   \n",
       "\n",
       "        Macroregion  Population  Area  Density Cultural_region  \\\n",
       "Country                                                          \n",
       "Italy       Insular      434870  3053      144           South   \n",
       "\n",
       "         Pop_weighted_lat  Pop_weighted_lon  Weighted_region_centroid_lat  \\\n",
       "Country                                                                     \n",
       "Italy        5.872772e+06      1.627845e+07                       1.17458   \n",
       "\n",
       "         Weighted_region_centroid_lon  Weighted_macroregion_centroid_lat  \\\n",
       "Country                                                                    \n",
       "Italy                        3.255761                           0.866149   \n",
       "\n",
       "         Weighted_macroregion_centroid_lon  Weighted_cult_region_centroid_lat  \\\n",
       "Country                                                                         \n",
       "Italy                             2.400835                           0.283185   \n",
       "\n",
       "         Weighted_cult_region_centroid_lon  \n",
       "Country                                     \n",
       "Italy                             0.784947  "
      ]
     },
     "execution_count": 137,
     "metadata": {},
     "output_type": "execute_result"
    }
   ],
   "source": [
    "italy_centroid"
   ]
  },
  {
   "cell_type": "code",
   "execution_count": 141,
   "metadata": {
    "ExecuteTime": {
     "end_time": "2020-11-18T22:35:52.652695Z",
     "start_time": "2020-11-18T22:35:52.481343Z"
    },
    "scrolled": true
   },
   "outputs": [
    {
     "data": {
      "text/plain": [
       "<AxesSubplot:>"
      ]
     },
     "execution_count": 141,
     "metadata": {},
     "output_type": "execute_result"
    },
    {
     "data": {
      "image/png": "[encoded data removed]",
      "text/plain": [
       "<Figure size 432x432 with 1 Axes>"
      ]
     },
     "metadata": {
      "needs_background": "light"
     },
     "output_type": "display_data"
    }
   ],
   "source": [
    "# green is population center while black is geo center\n",
    "ax4 = italy_centroid.plot(color='black', figsize=(5,5))\n",
    "country_pop_weighted_gdf.plot(figsize=(5,5), ax=ax4, color='green')\n",
    "gplt.polyplot(italy_geometry, facecolor='white', edgecolor='grey', ax=ax4, figsize=(5,5))"
   ]
  },
  {
   "cell_type": "code",
   "execution_count": null,
   "metadata": {},
   "outputs": [],
   "source": []
  }
 ],
 "metadata": {
  "kernelspec": {
   "display_name": "Python [conda env:pysparkenv]",
   "language": "python",
   "name": "conda-env-pysparkenv-py"
  },
  "language_info": {
   "codemirror_mode": {
    "name": "ipython",
    "version": 3
   },
   "file_extension": ".py",
   "mimetype": "text/x-python",
   "name": "python",
   "nbconvert_exporter": "python",
   "pygments_lexer": "ipython3",
   "version": "3.7.6"
  },
  "toc": {
   "base_numbering": 1,
   "nav_menu": {},
   "number_sections": true,
   "sideBar": true,
   "skip_h1_title": false,
   "title_cell": "Table of Contents",
   "title_sidebar": "Contents",
   "toc_cell": false,
   "toc_position": {
    "height": "calc(100% - 180px)",
    "left": "10px",
    "top": "150px",
    "width": "345.796875px"
   },
   "toc_section_display": true,
   "toc_window_display": true
  },
  "varInspector": {
   "cols": {
    "lenName": 16,
    "lenType": 16,
    "lenVar": 40
   },
   "kernels_config": {
    "python": {
     "delete_cmd_postfix": "",
     "delete_cmd_prefix": "del ",
     "library": "var_list.py",
     "varRefreshCmd": "print(var_dic_list())"
    },
    "r": {
     "delete_cmd_postfix": ") ",
     "delete_cmd_prefix": "rm(",
     "library": "var_list.r",
     "varRefreshCmd": "cat(var_dic_list()) "
    }
   },
   "types_to_exclude": [
    "module",
    "function",
    "builtin_function_or_method",
    "instance",
    "_Feature"
   ],
   "window_display": false
  }
 },
 "nbformat": 4,
 "nbformat_minor": 2
}
