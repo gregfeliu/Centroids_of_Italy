{
 "cells": [
  {
   "cell_type": "markdown",
   "metadata": {},
   "source": [
    "# Imports"
   ]
  },
  {
   "cell_type": "markdown",
   "metadata": {},
   "source": [
    "## Libraries"
   ]
  },
  {
   "cell_type": "code",
   "execution_count": 134,
   "metadata": {
    "ExecuteTime": {
     "end_time": "2020-11-13T19:45:53.934257Z",
     "start_time": "2020-11-13T19:45:53.930112Z"
    }
   },
   "outputs": [],
   "source": [
    "import geopandas as gpd\n",
    "import pandas as pd\n",
    "import warnings\n",
    "warnings.filterwarnings('ignore')"
   ]
  },
  {
   "cell_type": "markdown",
   "metadata": {},
   "source": [
    "## Data"
   ]
  },
  {
   "cell_type": "code",
   "execution_count": 115,
   "metadata": {
    "ExecuteTime": {
     "end_time": "2020-11-13T19:43:06.839935Z",
     "start_time": "2020-11-13T19:43:06.728080Z"
    }
   },
   "outputs": [],
   "source": [
    "prov_gdf = gpd.read_file(\"../data/it_provinces_shapes.geojson\", driver='geojson')\n",
    "provinces_df = pd.read_csv(\"../data/provinces.csv\", skipfooter=1)"
   ]
  },
  {
   "cell_type": "markdown",
   "metadata": {},
   "source": [
    "# Fixing dataframes"
   ]
  },
  {
   "cell_type": "markdown",
   "metadata": {},
   "source": [
    "## Incorrect Value"
   ]
  },
  {
   "cell_type": "code",
   "execution_count": 116,
   "metadata": {
    "ExecuteTime": {
     "end_time": "2020-11-13T19:43:06.846503Z",
     "start_time": "2020-11-13T19:43:06.842323Z"
    }
   },
   "outputs": [],
   "source": [
    "naples_location = provinces_df[provinces_df['Capital'] == \"Naples\"].index[0]\n",
    "provinces_df.Code[naples_location] = 'NA'"
   ]
  },
  {
   "cell_type": "code",
   "execution_count": 117,
   "metadata": {
    "ExecuteTime": {
     "end_time": "2020-11-13T19:43:06.852739Z",
     "start_time": "2020-11-13T19:43:06.848572Z"
    },
    "code_folding": [
     1
    ]
   },
   "outputs": [],
   "source": [
    "# Checking that all codes are 2 letters \n",
    "code_list = list(provinces_df.Code.unique())\n",
    "for idx, x in enumerate(code_list):\n",
    "    if type(x) != str:\n",
    "        print(idx)\n",
    "    if len(x) > 2:\n",
    "        print(x)"
   ]
  },
  {
   "cell_type": "markdown",
   "metadata": {},
   "source": [
    "## Feature Engineering"
   ]
  },
  {
   "cell_type": "code",
   "execution_count": 118,
   "metadata": {
    "ExecuteTime": {
     "end_time": "2020-11-13T19:43:06.858052Z",
     "start_time": "2020-11-13T19:43:06.854600Z"
    }
   },
   "outputs": [],
   "source": [
    "# preparing to combine prov_gdf and provinces_df\n",
    "prov_gdf['Code'] = [x[-2:] for x in prov_gdf['iso_3166_2']]"
   ]
  },
  {
   "cell_type": "markdown",
   "metadata": {},
   "source": [
    "## Datatype Correction"
   ]
  },
  {
   "cell_type": "code",
   "execution_count": 119,
   "metadata": {
    "ExecuteTime": {
     "end_time": "2020-11-13T19:43:06.863998Z",
     "start_time": "2020-11-13T19:43:06.859588Z"
    },
    "scrolled": true
   },
   "outputs": [],
   "source": [
    "provinces_df['Population'] = provinces_df['Population (2019)[3]'].str.replace(',', '').astype(int)"
   ]
  },
  {
   "cell_type": "markdown",
   "metadata": {},
   "source": [
    "## Dropping Unnecessary Columns"
   ]
  },
  {
   "cell_type": "markdown",
   "metadata": {},
   "source": [
    "### From prov_gdf"
   ]
  },
  {
   "cell_type": "code",
   "execution_count": 120,
   "metadata": {
    "ExecuteTime": {
     "end_time": "2020-11-13T19:43:06.879172Z",
     "start_time": "2020-11-13T19:43:06.865960Z"
    }
   },
   "outputs": [],
   "source": [
    "unnecessary_cols = [x for x in prov_gdf.columns if (prov_gdf[x].nunique() == 1) ] # 1 value columns\n",
    "unnecessary_cols.extend(['adm1_code', 'iso_3166_2', 'gns_region'])\n",
    "prov_gdf.drop(columns= unnecessary_cols, inplace=True)"
   ]
  },
  {
   "cell_type": "markdown",
   "metadata": {},
   "source": [
    "### From provinces_df"
   ]
  },
  {
   "cell_type": "code",
   "execution_count": 121,
   "metadata": {
    "ExecuteTime": {
     "end_time": "2020-11-13T19:43:06.886757Z",
     "start_time": "2020-11-13T19:43:06.883022Z"
    }
   },
   "outputs": [],
   "source": [
    "provinces_df.drop(columns = ['Type', 'Capital', 'Comuni', 'President'], inplace=True)"
   ]
  },
  {
   "cell_type": "markdown",
   "metadata": {},
   "source": [
    "## Sardinian regions"
   ]
  },
  {
   "cell_type": "markdown",
   "metadata": {},
   "source": [
    "Due to a consolidation of the provinces in 2014, Sardinia went from 8 provinces, to 4. The geodataframe still represents the pre-2014 structure. To correct for this, I will combine the provinces geometries when possible (in the case of \"Olbia-Tempio\" being consolidated into \"Sassari\"). Only for the current provinces of Cagliari and South Sardinia does this run into an issue since the geometries changed in 2014, too. Therefore, I will combine the pre-2014 provinces that make up these two provinces and treat both as a single \"South_Sardinia\" province. "
   ]
  },
  {
   "cell_type": "markdown",
   "metadata": {},
   "source": [
    "### Changing prov_gdf (geometries)"
   ]
  },
  {
   "cell_type": "code",
   "execution_count": 122,
   "metadata": {
    "ExecuteTime": {
     "end_time": "2020-11-13T19:43:06.892013Z",
     "start_time": "2020-11-13T19:43:06.889397Z"
    }
   },
   "outputs": [],
   "source": [
    "# viewing the sardinian regions\n",
    "sard_geo = prov_gdf[64:72]"
   ]
  },
  {
   "cell_type": "code",
   "execution_count": 123,
   "metadata": {
    "ExecuteTime": {
     "end_time": "2020-11-13T19:43:06.898051Z",
     "start_time": "2020-11-13T19:43:06.893835Z"
    }
   },
   "outputs": [],
   "source": [
    "prov_gdf['Code'][64] = 'South_Sardinia'\n",
    "prov_gdf['Code'][65] = 'Sass'\n",
    "prov_gdf['Code'][67] = 'Sass'\n",
    "prov_gdf['Code'][69] = 'South_Sardinia'\n",
    "prov_gdf['Code'][70] = 'South_Sardinia'\n",
    "prov_gdf['Code'][71] = 'South_Sardinia'"
   ]
  },
  {
   "cell_type": "code",
   "execution_count": 124,
   "metadata": {
    "ExecuteTime": {
     "end_time": "2020-11-13T19:43:06.932360Z",
     "start_time": "2020-11-13T19:43:06.899728Z"
    }
   },
   "outputs": [],
   "source": [
    "# merging the geometries of the new \"regions\"\n",
    "prov_gdf2 = prov_gdf.dissolve(by='Code')"
   ]
  },
  {
   "cell_type": "markdown",
   "metadata": {},
   "source": [
    "### Changing Provinces_df (populations)"
   ]
  },
  {
   "cell_type": "code",
   "execution_count": 125,
   "metadata": {
    "ExecuteTime": {
     "end_time": "2020-11-13T19:43:06.936860Z",
     "start_time": "2020-11-13T19:43:06.934173Z"
    }
   },
   "outputs": [],
   "source": [
    "south_sard_new_population = provinces_df['Population'][17] + provinces_df['Population'][83]"
   ]
  },
  {
   "cell_type": "code",
   "execution_count": 126,
   "metadata": {
    "ExecuteTime": {
     "end_time": "2020-11-13T19:43:06.948031Z",
     "start_time": "2020-11-13T19:43:06.938500Z"
    }
   },
   "outputs": [
    {
     "data": {
      "text/html": [
       "<div>\n",
       "<style scoped>\n",
       "    .dataframe tbody tr th:only-of-type {\n",
       "        vertical-align: middle;\n",
       "    }\n",
       "\n",
       "    .dataframe tbody tr th {\n",
       "        vertical-align: top;\n",
       "    }\n",
       "\n",
       "    .dataframe thead th {\n",
       "        text-align: right;\n",
       "    }\n",
       "</style>\n",
       "<table border=\"1\" class=\"dataframe\">\n",
       "  <thead>\n",
       "    <tr style=\"text-align: right;\">\n",
       "      <th></th>\n",
       "      <th>Province</th>\n",
       "      <th>Code</th>\n",
       "      <th>Region</th>\n",
       "      <th>Macroregion</th>\n",
       "      <th>Population (2019)[3]</th>\n",
       "      <th>Area(km²)</th>\n",
       "      <th>Density(p/km²)</th>\n",
       "      <th>Population</th>\n",
       "    </tr>\n",
       "  </thead>\n",
       "  <tbody>\n",
       "    <tr>\n",
       "      <th>85</th>\n",
       "      <td>Siena</td>\n",
       "      <td>SI</td>\n",
       "      <td>Tuscany</td>\n",
       "      <td>Centre</td>\n",
       "      <td>267,197</td>\n",
       "      <td>3,823</td>\n",
       "      <td>71</td>\n",
       "      <td>267197</td>\n",
       "    </tr>\n",
       "    <tr>\n",
       "      <th>86</th>\n",
       "      <td>Sondrio</td>\n",
       "      <td>SO</td>\n",
       "      <td>Lombardy</td>\n",
       "      <td>North-West</td>\n",
       "      <td>181,095</td>\n",
       "      <td>3,210</td>\n",
       "      <td>57</td>\n",
       "      <td>181095</td>\n",
       "    </tr>\n",
       "    <tr>\n",
       "      <th>87</th>\n",
       "      <td>South Sardinia</td>\n",
       "      <td>SU</td>\n",
       "      <td>Sardinia</td>\n",
       "      <td>Insular</td>\n",
       "      <td>350,725</td>\n",
       "      <td>6,530</td>\n",
       "      <td>54</td>\n",
       "      <td>350725</td>\n",
       "    </tr>\n",
       "    <tr>\n",
       "      <th>88</th>\n",
       "      <td>South Tyrol</td>\n",
       "      <td>BZ</td>\n",
       "      <td>Trentino-South Tyrol</td>\n",
       "      <td>North-East</td>\n",
       "      <td>531,178</td>\n",
       "      <td>7,400</td>\n",
       "      <td>69</td>\n",
       "      <td>531178</td>\n",
       "    </tr>\n",
       "  </tbody>\n",
       "</table>\n",
       "</div>"
      ],
      "text/plain": [
       "          Province Code                Region Macroregion  \\\n",
       "85           Siena   SI               Tuscany      Centre   \n",
       "86         Sondrio   SO              Lombardy  North-West   \n",
       "87  South Sardinia   SU              Sardinia     Insular   \n",
       "88     South Tyrol   BZ  Trentino-South Tyrol  North-East   \n",
       "\n",
       "   Population (2019)[3] Area(km²) Density(p/km²)  Population  \n",
       "85              267,197     3,823             71      267197  \n",
       "86              181,095     3,210             57      181095  \n",
       "87              350,725     6,530             54      350725  \n",
       "88              531,178     7,400             69      531178  "
      ]
     },
     "execution_count": 126,
     "metadata": {},
     "output_type": "execute_result"
    }
   ],
   "source": [
    "provinces_df[85:89]"
   ]
  },
  {
   "cell_type": "code",
   "execution_count": 127,
   "metadata": {
    "ExecuteTime": {
     "end_time": "2020-11-13T19:43:06.954406Z",
     "start_time": "2020-11-13T19:43:06.949562Z"
    }
   },
   "outputs": [],
   "source": [
    "## new population for south_sardinia is 431038 + 350725 = 781763\n",
    "provinces_df['Code'][17] = 'South_Sardinia'\n",
    "provinces_df['Code'][83] = 'Sass'\n",
    "provinces_df.drop(index = 87, inplace=True)\n",
    "provinces_df['Population'][17] = south_sard_new_population"
   ]
  },
  {
   "cell_type": "markdown",
   "metadata": {},
   "source": [
    "#### Merging Geometries"
   ]
  },
  {
   "cell_type": "code",
   "execution_count": 128,
   "metadata": {
    "ExecuteTime": {
     "end_time": "2020-11-13T19:43:06.987562Z",
     "start_time": "2020-11-13T19:43:06.956177Z"
    }
   },
   "outputs": [],
   "source": [
    "prov_gdf2 = prov_gdf.dissolve(by='Code')"
   ]
  },
  {
   "cell_type": "markdown",
   "metadata": {},
   "source": [
    "## Merging the 2 Dataframes"
   ]
  },
  {
   "cell_type": "code",
   "execution_count": 129,
   "metadata": {
    "ExecuteTime": {
     "end_time": "2020-11-13T19:43:06.992973Z",
     "start_time": "2020-11-13T19:43:06.989295Z"
    }
   },
   "outputs": [
    {
     "data": {
      "text/plain": [
       "Index(['geometry', 'name'], dtype='object')"
      ]
     },
     "execution_count": 129,
     "metadata": {},
     "output_type": "execute_result"
    }
   ],
   "source": [
    "prov_gdf2.columns"
   ]
  },
  {
   "cell_type": "code",
   "execution_count": 130,
   "metadata": {
    "ExecuteTime": {
     "end_time": "2020-11-13T19:43:06.997265Z",
     "start_time": "2020-11-13T19:43:06.994575Z"
    }
   },
   "outputs": [
    {
     "name": "stdout",
     "output_type": "stream",
     "text": [
      "(106, 8)\n",
      "(106, 2)\n"
     ]
    }
   ],
   "source": [
    "print(provinces_df.shape)\n",
    "print(prov_gdf2.shape)"
   ]
  },
  {
   "cell_type": "code",
   "execution_count": 131,
   "metadata": {
    "ExecuteTime": {
     "end_time": "2020-11-13T19:43:07.008547Z",
     "start_time": "2020-11-13T19:43:06.998900Z"
    }
   },
   "outputs": [
    {
     "data": {
      "text/plain": [
       "(106, 10)"
      ]
     },
     "execution_count": 131,
     "metadata": {},
     "output_type": "execute_result"
    }
   ],
   "source": [
    "provinces_data_gdf = prov_gdf2.merge(provinces_df, on='Code', how='inner')\n",
    "provinces_data_gdf.shape"
   ]
  },
  {
   "cell_type": "markdown",
   "metadata": {},
   "source": [
    "# Saving DataFrame"
   ]
  },
  {
   "cell_type": "code",
   "execution_count": 133,
   "metadata": {
    "ExecuteTime": {
     "end_time": "2020-11-13T19:44:25.179499Z",
     "start_time": "2020-11-13T19:44:25.039432Z"
    }
   },
   "outputs": [],
   "source": [
    "provinces_data_gdf.to_file(\"../data/provinces_gdf.geojson\", driver='GeoJSON')"
   ]
  }
 ],
 "metadata": {
  "kernelspec": {
   "display_name": "Python [conda env:pysparkenv]",
   "language": "python",
   "name": "conda-env-pysparkenv-py"
  },
  "language_info": {
   "codemirror_mode": {
    "name": "ipython",
    "version": 3
   },
   "file_extension": ".py",
   "mimetype": "text/x-python",
   "name": "python",
   "nbconvert_exporter": "python",
   "pygments_lexer": "ipython3",
   "version": "3.7.6"
  },
  "toc": {
   "base_numbering": 1,
   "nav_menu": {},
   "number_sections": true,
   "sideBar": true,
   "skip_h1_title": false,
   "title_cell": "Table of Contents",
   "title_sidebar": "Contents",
   "toc_cell": false,
   "toc_position": {},
   "toc_section_display": true,
   "toc_window_display": true
  },
  "varInspector": {
   "cols": {
    "lenName": 16,
    "lenType": 16,
    "lenVar": 40
   },
   "kernels_config": {
    "python": {
     "delete_cmd_postfix": "",
     "delete_cmd_prefix": "del ",
     "library": "var_list.py",
     "varRefreshCmd": "print(var_dic_list())"
    },
    "r": {
     "delete_cmd_postfix": ") ",
     "delete_cmd_prefix": "rm(",
     "library": "var_list.r",
     "varRefreshCmd": "cat(var_dic_list()) "
    }
   },
   "position": {
    "height": "522px",
    "left": "1341px",
    "right": "20px",
    "top": "120px",
    "width": "441px"
   },
   "types_to_exclude": [
    "module",
    "function",
    "builtin_function_or_method",
    "instance",
    "_Feature"
   ],
   "window_display": false
  }
 },
 "nbformat": 4,
 "nbformat_minor": 2
}
