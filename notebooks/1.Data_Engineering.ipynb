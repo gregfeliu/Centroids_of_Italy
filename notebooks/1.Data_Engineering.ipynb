{
 "cells": [
  {
   "cell_type": "markdown",
   "metadata": {},
   "source": [
    "# Imports"
   ]
  },
  {
   "cell_type": "markdown",
   "metadata": {},
   "source": [
    "## Libraries"
   ]
  },
  {
   "cell_type": "code",
   "execution_count": 1,
   "metadata": {
    "ExecuteTime": {
     "end_time": "2020-11-19T17:24:37.196224Z",
     "start_time": "2020-11-19T17:24:36.433530Z"
    }
   },
   "outputs": [],
   "source": [
    "import geopandas as gpd\n",
    "import pandas as pd\n",
    "import warnings\n",
    "warnings.filterwarnings('ignore')"
   ]
  },
  {
   "cell_type": "markdown",
   "metadata": {},
   "source": [
    "## Data"
   ]
  },
  {
   "cell_type": "code",
   "execution_count": 2,
   "metadata": {
    "ExecuteTime": {
     "end_time": "2020-11-19T17:24:37.310075Z",
     "start_time": "2020-11-19T17:24:37.198471Z"
    }
   },
   "outputs": [],
   "source": [
    "prov_gdf = gpd.read_file(\"../data/it_provinces_shapes.geojson\", driver='geojson')\n",
    "provinces_df = pd.read_csv(\"../data/provinces.csv\", skipfooter=1)"
   ]
  },
  {
   "cell_type": "markdown",
   "metadata": {},
   "source": [
    "# Fixing dataframes"
   ]
  },
  {
   "cell_type": "markdown",
   "metadata": {},
   "source": [
    "## Incorrect Value"
   ]
  },
  {
   "cell_type": "code",
   "execution_count": 3,
   "metadata": {
    "ExecuteTime": {
     "end_time": "2020-11-19T17:24:37.315802Z",
     "start_time": "2020-11-19T17:24:37.312165Z"
    }
   },
   "outputs": [],
   "source": [
    "naples_location = provinces_df[provinces_df['Capital'] == \"Naples\"].index[0]\n",
    "provinces_df.Code[naples_location] = 'NA'"
   ]
  },
  {
   "cell_type": "code",
   "execution_count": 4,
   "metadata": {
    "ExecuteTime": {
     "end_time": "2020-11-19T17:24:37.320992Z",
     "start_time": "2020-11-19T17:24:37.317467Z"
    },
    "code_folding": [
     1
    ]
   },
   "outputs": [],
   "source": [
    "# Checking that all codes are 2 letters \n",
    "code_list = list(provinces_df.Code.unique())\n",
    "for idx, x in enumerate(code_list):\n",
    "    if type(x) != str:\n",
    "        print(idx)\n",
    "    if len(x) > 2:\n",
    "        print(x)"
   ]
  },
  {
   "cell_type": "markdown",
   "metadata": {},
   "source": [
    "## Feature Engineering"
   ]
  },
  {
   "cell_type": "code",
   "execution_count": 5,
   "metadata": {
    "ExecuteTime": {
     "end_time": "2020-11-19T17:24:37.326178Z",
     "start_time": "2020-11-19T17:24:37.322694Z"
    }
   },
   "outputs": [],
   "source": [
    "# preparing to combine prov_gdf and provinces_df\n",
    "prov_gdf['Code'] = [x[-2:] for x in prov_gdf['iso_3166_2']]"
   ]
  },
  {
   "cell_type": "markdown",
   "metadata": {},
   "source": [
    "## Datatype Correction"
   ]
  },
  {
   "cell_type": "code",
   "execution_count": 6,
   "metadata": {
    "ExecuteTime": {
     "end_time": "2020-11-19T17:24:37.334979Z",
     "start_time": "2020-11-19T17:24:37.329147Z"
    },
    "scrolled": true
   },
   "outputs": [],
   "source": [
    "provinces_df['Population'] = provinces_df['Population (2019)[3]'].str.replace(',', '').astype(int)\n",
    "provinces_df['Area'] = provinces_df['Area(km²)'].str.replace(',', '').astype(int)\n",
    "provinces_df['Density'] = provinces_df['Density(p/km²)'].str.replace(',', '').astype(int)"
   ]
  },
  {
   "cell_type": "markdown",
   "metadata": {},
   "source": [
    "## Dropping Unnecessary Columns"
   ]
  },
  {
   "cell_type": "markdown",
   "metadata": {},
   "source": [
    "### From prov_gdf"
   ]
  },
  {
   "cell_type": "code",
   "execution_count": 7,
   "metadata": {
    "ExecuteTime": {
     "end_time": "2020-11-19T17:24:37.350680Z",
     "start_time": "2020-11-19T17:24:37.337835Z"
    }
   },
   "outputs": [],
   "source": [
    "unnecessary_cols = [x for x in prov_gdf.columns if (prov_gdf[x].nunique() == 1) ] # 1 value columns\n",
    "unnecessary_cols.extend(['adm1_code', 'iso_3166_2', 'gns_region'])\n",
    "prov_gdf.drop(columns= unnecessary_cols, inplace=True)"
   ]
  },
  {
   "cell_type": "markdown",
   "metadata": {},
   "source": [
    "### From provinces_df"
   ]
  },
  {
   "cell_type": "code",
   "execution_count": 8,
   "metadata": {
    "ExecuteTime": {
     "end_time": "2020-11-19T17:24:37.356189Z",
     "start_time": "2020-11-19T17:24:37.352259Z"
    }
   },
   "outputs": [],
   "source": [
    "provinces_df.drop(columns = ['Type', 'Capital', 'Comuni', 'President'], inplace=True)"
   ]
  },
  {
   "cell_type": "markdown",
   "metadata": {},
   "source": [
    "## Sardinian regions"
   ]
  },
  {
   "cell_type": "markdown",
   "metadata": {},
   "source": [
    "Due to a consolidation of the provinces in 2014, Sardinia went from 8 provinces, to 4. The geodataframe still represents the pre-2014 structure. To correct for this, I will combine the provinces geometries when possible (in the case of \"Olbia-Tempio\" being consolidated into \"Sassari\"). Only for the current provinces of Cagliari and South Sardinia does this run into an issue since the geometries changed in 2014, too. Therefore, I will combine the pre-2014 provinces that make up these two provinces and treat both as a single \"South_Sardinia\" province. "
   ]
  },
  {
   "cell_type": "markdown",
   "metadata": {},
   "source": [
    "### Changing prov_gdf (geometries)"
   ]
  },
  {
   "cell_type": "code",
   "execution_count": 9,
   "metadata": {
    "ExecuteTime": {
     "end_time": "2020-11-19T17:24:37.360715Z",
     "start_time": "2020-11-19T17:24:37.357884Z"
    }
   },
   "outputs": [],
   "source": [
    "# viewing the sardinian regions\n",
    "sard_geo = prov_gdf[64:72]"
   ]
  },
  {
   "cell_type": "code",
   "execution_count": 10,
   "metadata": {
    "ExecuteTime": {
     "end_time": "2020-11-19T17:24:37.366080Z",
     "start_time": "2020-11-19T17:24:37.362268Z"
    }
   },
   "outputs": [],
   "source": [
    "prov_gdf['Code'][64] = 'South_Sardinia'\n",
    "prov_gdf['Code'][65] = 'Sass'\n",
    "prov_gdf['Code'][67] = 'Sass'\n",
    "prov_gdf['Code'][69] = 'South_Sardinia'\n",
    "prov_gdf['Code'][70] = 'South_Sardinia'\n",
    "prov_gdf['Code'][71] = 'South_Sardinia'"
   ]
  },
  {
   "cell_type": "code",
   "execution_count": 11,
   "metadata": {
    "ExecuteTime": {
     "end_time": "2020-11-19T17:24:37.400152Z",
     "start_time": "2020-11-19T17:24:37.367713Z"
    }
   },
   "outputs": [],
   "source": [
    "# merging the geometries of the new \"regions\"\n",
    "prov_gdf2 = prov_gdf.dissolve(by='Code')"
   ]
  },
  {
   "cell_type": "markdown",
   "metadata": {},
   "source": [
    "### Changing Provinces_df (populations)"
   ]
  },
  {
   "cell_type": "code",
   "execution_count": 12,
   "metadata": {
    "ExecuteTime": {
     "end_time": "2020-11-19T17:24:37.404465Z",
     "start_time": "2020-11-19T17:24:37.401938Z"
    }
   },
   "outputs": [],
   "source": [
    "south_sard_new_population = provinces_df['Population'][17] + provinces_df['Population'][83]"
   ]
  },
  {
   "cell_type": "code",
   "execution_count": 13,
   "metadata": {
    "ExecuteTime": {
     "end_time": "2020-11-19T17:24:37.410415Z",
     "start_time": "2020-11-19T17:24:37.406257Z"
    }
   },
   "outputs": [],
   "source": [
    "## new population for south_sardinia is 431038 + 350725 = 781763\n",
    "provinces_df['Code'][17] = 'South_Sardinia'\n",
    "provinces_df['Code'][83] = 'Sass'\n",
    "provinces_df.drop(index = 87, inplace=True)\n",
    "provinces_df['Population'][17] = south_sard_new_population"
   ]
  },
  {
   "cell_type": "markdown",
   "metadata": {},
   "source": [
    "#### Merging Geometries"
   ]
  },
  {
   "cell_type": "code",
   "execution_count": 14,
   "metadata": {
    "ExecuteTime": {
     "end_time": "2020-11-19T17:24:37.444126Z",
     "start_time": "2020-11-19T17:24:37.411987Z"
    }
   },
   "outputs": [],
   "source": [
    "prov_gdf2 = prov_gdf.dissolve(by='Code')"
   ]
  },
  {
   "cell_type": "markdown",
   "metadata": {},
   "source": [
    "## Merging the 2 Dataframes"
   ]
  },
  {
   "cell_type": "code",
   "execution_count": 15,
   "metadata": {
    "ExecuteTime": {
     "end_time": "2020-11-19T17:24:37.448690Z",
     "start_time": "2020-11-19T17:24:37.445860Z"
    }
   },
   "outputs": [
    {
     "name": "stdout",
     "output_type": "stream",
     "text": [
      "(106, 10)\n",
      "(106, 2)\n"
     ]
    }
   ],
   "source": [
    "print(provinces_df.shape)\n",
    "print(prov_gdf2.shape)"
   ]
  },
  {
   "cell_type": "code",
   "execution_count": 16,
   "metadata": {
    "ExecuteTime": {
     "end_time": "2020-11-19T17:24:37.463600Z",
     "start_time": "2020-11-19T17:24:37.450744Z"
    },
    "scrolled": true
   },
   "outputs": [
    {
     "data": {
      "text/plain": [
       "(106, 12)"
      ]
     },
     "execution_count": 16,
     "metadata": {},
     "output_type": "execute_result"
    }
   ],
   "source": [
    "provinces_data_gdf = prov_gdf2.merge(provinces_df, on='Code', how='inner')\n",
    "provinces_data_gdf.shape"
   ]
  },
  {
   "cell_type": "markdown",
   "metadata": {
    "ExecuteTime": {
     "end_time": "2020-11-17T16:25:42.913146Z",
     "start_time": "2020-11-17T16:25:42.911024Z"
    }
   },
   "source": [
    "### Is the \"name\" column useful?"
   ]
  },
  {
   "cell_type": "code",
   "execution_count": 17,
   "metadata": {
    "ExecuteTime": {
     "end_time": "2020-11-19T17:24:37.483903Z",
     "start_time": "2020-11-19T17:24:37.465212Z"
    },
    "scrolled": true
   },
   "outputs": [
    {
     "data": {
      "text/html": [
       "<div>\n",
       "<style scoped>\n",
       "    .dataframe tbody tr th:only-of-type {\n",
       "        vertical-align: middle;\n",
       "    }\n",
       "\n",
       "    .dataframe tbody tr th {\n",
       "        vertical-align: top;\n",
       "    }\n",
       "\n",
       "    .dataframe thead th {\n",
       "        text-align: right;\n",
       "    }\n",
       "</style>\n",
       "<table border=\"1\" class=\"dataframe\">\n",
       "  <thead>\n",
       "    <tr style=\"text-align: right;\">\n",
       "      <th></th>\n",
       "      <th>Code</th>\n",
       "      <th>geometry</th>\n",
       "      <th>name</th>\n",
       "      <th>Province</th>\n",
       "      <th>Region</th>\n",
       "      <th>Macroregion</th>\n",
       "      <th>Population (2019)[3]</th>\n",
       "      <th>Area(km²)</th>\n",
       "      <th>Density(p/km²)</th>\n",
       "      <th>Population</th>\n",
       "      <th>Area</th>\n",
       "      <th>Density</th>\n",
       "    </tr>\n",
       "  </thead>\n",
       "  <tbody>\n",
       "    <tr>\n",
       "      <th>3</th>\n",
       "      <td>AO</td>\n",
       "      <td>POLYGON ((7.02208 45.92526, 7.06694 45.89022, ...</td>\n",
       "      <td>Aoste</td>\n",
       "      <td>Aosta</td>\n",
       "      <td>Aosta Valley</td>\n",
       "      <td>North-West</td>\n",
       "      <td>125,666</td>\n",
       "      <td>3,261</td>\n",
       "      <td>39</td>\n",
       "      <td>125666</td>\n",
       "      <td>3261</td>\n",
       "      <td>39</td>\n",
       "    </tr>\n",
       "    <tr>\n",
       "      <th>17</th>\n",
       "      <td>BT</td>\n",
       "      <td>POLYGON ((15.97173 41.45390, 16.02166 41.42780...</td>\n",
       "      <td>Barletta-Andria Trani</td>\n",
       "      <td>Barletta-Andria-Trani</td>\n",
       "      <td>Apulia</td>\n",
       "      <td>South</td>\n",
       "      <td>390,011</td>\n",
       "      <td>1,538</td>\n",
       "      <td>255</td>\n",
       "      <td>390011</td>\n",
       "      <td>1538</td>\n",
       "      <td>255</td>\n",
       "    </tr>\n",
       "    <tr>\n",
       "      <th>18</th>\n",
       "      <td>BZ</td>\n",
       "      <td>POLYGON ((10.45183 46.54670, 10.45795 46.55370...</td>\n",
       "      <td>Bozen</td>\n",
       "      <td>South Tyrol</td>\n",
       "      <td>Trentino-South Tyrol</td>\n",
       "      <td>North-East</td>\n",
       "      <td>531,178</td>\n",
       "      <td>7,400</td>\n",
       "      <td>69</td>\n",
       "      <td>531178</td>\n",
       "      <td>7400</td>\n",
       "      <td>69</td>\n",
       "    </tr>\n",
       "  </tbody>\n",
       "</table>\n",
       "</div>"
      ],
      "text/plain": [
       "   Code                                           geometry  \\\n",
       "3    AO  POLYGON ((7.02208 45.92526, 7.06694 45.89022, ...   \n",
       "17   BT  POLYGON ((15.97173 41.45390, 16.02166 41.42780...   \n",
       "18   BZ  POLYGON ((10.45183 46.54670, 10.45795 46.55370...   \n",
       "\n",
       "                     name               Province                Region  \\\n",
       "3                   Aoste                  Aosta          Aosta Valley   \n",
       "17  Barletta-Andria Trani  Barletta-Andria-Trani                Apulia   \n",
       "18                  Bozen            South Tyrol  Trentino-South Tyrol   \n",
       "\n",
       "   Macroregion Population (2019)[3] Area(km²) Density(p/km²)  Population  \\\n",
       "3   North-West              125,666     3,261             39      125666   \n",
       "17       South              390,011     1,538            255      390011   \n",
       "18  North-East              531,178     7,400             69      531178   \n",
       "\n",
       "    Area  Density  \n",
       "3   3261       39  \n",
       "17  1538      255  \n",
       "18  7400       69  "
      ]
     },
     "execution_count": 17,
     "metadata": {},
     "output_type": "execute_result"
    }
   ],
   "source": [
    "# the name column has the italian name or a past province name. All data looks correct\n",
    "provinces_data_gdf[(provinces_data_gdf.name == provinces_data_gdf.Province) == False][0:3]"
   ]
  },
  {
   "cell_type": "markdown",
   "metadata": {},
   "source": [
    "## Removing Duplicate Columns"
   ]
  },
  {
   "cell_type": "code",
   "execution_count": 18,
   "metadata": {
    "ExecuteTime": {
     "end_time": "2020-11-19T17:24:37.492463Z",
     "start_time": "2020-11-19T17:24:37.488637Z"
    }
   },
   "outputs": [],
   "source": [
    "provinces_data_gdf.drop(columns = ['Population (2019)[3]', 'Area(km²)', 'Density(p/km²)'], inplace=True)"
   ]
  },
  {
   "cell_type": "markdown",
   "metadata": {},
   "source": [
    "## More Feature Engineering"
   ]
  },
  {
   "cell_type": "code",
   "execution_count": 19,
   "metadata": {
    "ExecuteTime": {
     "end_time": "2020-11-19T17:24:37.499834Z",
     "start_time": "2020-11-19T17:24:37.497401Z"
    }
   },
   "outputs": [],
   "source": [
    "Cultural_regions_dict = {\"Insular\": \"South\", \"South\": \"South\", \"Centre\":\"Center\", \"North-West\":\"North\",\n",
    "                        \"North-East\":\"North\"}"
   ]
  },
  {
   "cell_type": "code",
   "execution_count": 20,
   "metadata": {
    "ExecuteTime": {
     "end_time": "2020-11-19T17:24:37.507165Z",
     "start_time": "2020-11-19T17:24:37.501888Z"
    }
   },
   "outputs": [],
   "source": [
    "provinces_data_gdf['Country'] = 'Italy'\n",
    "provinces_data_gdf['Cultural_region'] = provinces_data_gdf['Macroregion'].replace(Cultural_regions_dict)"
   ]
  },
  {
   "cell_type": "code",
   "execution_count": 21,
   "metadata": {
    "ExecuteTime": {
     "end_time": "2020-11-19T17:24:37.515996Z",
     "start_time": "2020-11-19T17:24:37.509102Z"
    }
   },
   "outputs": [],
   "source": [
    "province_geo_centroid = [provinces_data_gdf.geometry[x].centroid \\\n",
    "                                             for x in range(len(provinces_data_gdf))]"
   ]
  },
  {
   "cell_type": "code",
   "execution_count": 22,
   "metadata": {
    "ExecuteTime": {
     "end_time": "2020-11-19T17:24:37.530460Z",
     "start_time": "2020-11-19T17:24:37.517421Z"
    }
   },
   "outputs": [],
   "source": [
    "# weighting each region's latitude and longitude to its population\n",
    "provinces_data_gdf['Pop_weighted_lat'] = [province_geo_centroid[x].coords[0][0] * \n",
    "                                          provinces_data_gdf['Population'][x]\n",
    "                                         for x in range(len(provinces_data_gdf))]\n",
    "provinces_data_gdf['Pop_weighted_lon'] = [province_geo_centroid[x].coords[0][1] * \n",
    "                                          provinces_data_gdf['Population'][x]\n",
    "                                         for x in range(len(provinces_data_gdf))]"
   ]
  },
  {
   "cell_type": "markdown",
   "metadata": {},
   "source": [
    "# Saving DataFrame"
   ]
  },
  {
   "cell_type": "code",
   "execution_count": 23,
   "metadata": {
    "ExecuteTime": {
     "end_time": "2020-11-19T17:24:37.660515Z",
     "start_time": "2020-11-19T17:24:37.532215Z"
    }
   },
   "outputs": [],
   "source": [
    "provinces_data_gdf.to_file(\"../data/provinces_gdf.geojson\", driver='GeoJSON')"
   ]
  }
 ],
 "metadata": {
  "kernelspec": {
   "display_name": "Python [conda env:pysparkenv]",
   "language": "python",
   "name": "conda-env-pysparkenv-py"
  },
  "language_info": {
   "codemirror_mode": {
    "name": "ipython",
    "version": 3
   },
   "file_extension": ".py",
   "mimetype": "text/x-python",
   "name": "python",
   "nbconvert_exporter": "python",
   "pygments_lexer": "ipython3",
   "version": "3.7.6"
  },
  "toc": {
   "base_numbering": 1,
   "nav_menu": {},
   "number_sections": true,
   "sideBar": true,
   "skip_h1_title": false,
   "title_cell": "Table of Contents",
   "title_sidebar": "Contents",
   "toc_cell": false,
   "toc_position": {
    "height": "calc(100% - 180px)",
    "left": "10px",
    "top": "150px",
    "width": "272px"
   },
   "toc_section_display": true,
   "toc_window_display": true
  },
  "varInspector": {
   "cols": {
    "lenName": 16,
    "lenType": 16,
    "lenVar": 40
   },
   "kernels_config": {
    "python": {
     "delete_cmd_postfix": "",
     "delete_cmd_prefix": "del ",
     "library": "var_list.py",
     "varRefreshCmd": "print(var_dic_list())"
    },
    "r": {
     "delete_cmd_postfix": ") ",
     "delete_cmd_prefix": "rm(",
     "library": "var_list.r",
     "varRefreshCmd": "cat(var_dic_list()) "
    }
   },
   "position": {
    "height": "522px",
    "left": "1341px",
    "right": "20px",
    "top": "120px",
    "width": "441px"
   },
   "types_to_exclude": [
    "module",
    "function",
    "builtin_function_or_method",
    "instance",
    "_Feature"
   ],
   "window_display": false
  }
 },
 "nbformat": 4,
 "nbformat_minor": 2
}
