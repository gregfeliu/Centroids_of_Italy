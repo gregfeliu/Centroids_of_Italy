{
 "cells": [
  {
   "cell_type": "markdown",
   "metadata": {},
   "source": [
    "# Imports"
   ]
  },
  {
   "cell_type": "markdown",
   "metadata": {},
   "source": [
    "## Libraries"
   ]
  },
  {
   "cell_type": "code",
   "execution_count": 525,
   "metadata": {
    "ExecuteTime": {
     "end_time": "2020-11-13T18:25:15.632057Z",
     "start_time": "2020-11-13T18:25:15.626218Z"
    }
   },
   "outputs": [],
   "source": [
    "import geopandas as gpd\n",
    "import pandas as pd\n",
    "import geoplot as gplt\n",
    "import geoplot.crs as gcrs\n",
    "import mapclassify as mc\n",
    "import seaborn as sns\n",
    "from shapely.ops import unary_union\n",
    "import warnings\n",
    "warnings.filterwarnings('ignore')\n",
    "import matplotlib.pyplot as plt\n",
    "from benfordslaw import benfordslaw\n",
    "from shapely.geometry import Point\n",
    "import matplotlib.pyplot as plt"
   ]
  },
  {
   "cell_type": "markdown",
   "metadata": {},
   "source": [
    "## Data"
   ]
  },
  {
   "cell_type": "code",
   "execution_count": 215,
   "metadata": {
    "ExecuteTime": {
     "end_time": "2020-11-10T21:06:54.971908Z",
     "start_time": "2020-11-10T21:06:54.864427Z"
    }
   },
   "outputs": [],
   "source": [
    "prov_gdf = gpd.read_file(\"../data/it_provinces_shapes.geojson\", driver='geojson')\n",
    "provinces_df = pd.read_csv(\"../data/provinces.csv\")"
   ]
  },
  {
   "cell_type": "markdown",
   "metadata": {},
   "source": [
    "# Fixing dataframes"
   ]
  },
  {
   "cell_type": "code",
   "execution_count": 216,
   "metadata": {
    "ExecuteTime": {
     "end_time": "2020-11-10T21:06:57.632734Z",
     "start_time": "2020-11-10T21:06:57.626921Z"
    }
   },
   "outputs": [],
   "source": [
    "# converting the \"np.nan\" to \"NA\", for naples \n",
    "provinces_df.drop(index = 107, inplace=True)\n",
    "provinces_df.Code[57] = 'NA'"
   ]
  },
  {
   "cell_type": "code",
   "execution_count": 217,
   "metadata": {
    "ExecuteTime": {
     "end_time": "2020-11-10T21:06:58.021705Z",
     "start_time": "2020-11-10T21:06:58.016705Z"
    },
    "code_folding": [
     1
    ]
   },
   "outputs": [],
   "source": [
    "# all codes are 2 letters \n",
    "code_list = list(provinces_df.Code.unique())\n",
    "for idx, x in enumerate(code_list):\n",
    "#     if type(x) != str:\n",
    "#         print(idx)\n",
    "    if len(x) > 2:\n",
    "        print(x)"
   ]
  },
  {
   "cell_type": "code",
   "execution_count": 218,
   "metadata": {
    "ExecuteTime": {
     "end_time": "2020-11-10T21:06:58.302257Z",
     "start_time": "2020-11-10T21:06:58.297470Z"
    }
   },
   "outputs": [],
   "source": [
    "# preparing to combine prov_gdf and provinces_df\n",
    "prov_gdf['Code'] = [x[-2:] for x in prov_gdf['iso_3166_2']]"
   ]
  },
  {
   "cell_type": "markdown",
   "metadata": {},
   "source": [
    "### Dropping more columns from prov_gdf"
   ]
  },
  {
   "cell_type": "code",
   "execution_count": 219,
   "metadata": {
    "ExecuteTime": {
     "end_time": "2020-11-10T21:06:58.737377Z",
     "start_time": "2020-11-10T21:06:58.718853Z"
    }
   },
   "outputs": [],
   "source": [
    "useless_cols = [x for x in prov_gdf.columns if (prov_gdf[x].nunique() == 1) ]\n",
    "prov_gdf.drop(columns= useless_cols, inplace=True)"
   ]
  },
  {
   "cell_type": "markdown",
   "metadata": {},
   "source": [
    "### Dropping columns from provinces_df"
   ]
  },
  {
   "cell_type": "code",
   "execution_count": 220,
   "metadata": {
    "ExecuteTime": {
     "end_time": "2020-11-10T21:06:59.408123Z",
     "start_time": "2020-11-10T21:06:59.402751Z"
    }
   },
   "outputs": [],
   "source": [
    "# useless_cols2 = [x for x in provinces_df.columns if (provinces_df[x].nunique() == 1) ]\n",
    "provinces_df.drop(columns = ['Capital', 'Comuni', 'President'], inplace=True)"
   ]
  },
  {
   "cell_type": "markdown",
   "metadata": {},
   "source": [
    "## Sardinian regions"
   ]
  },
  {
   "cell_type": "markdown",
   "metadata": {},
   "source": [
    "### Changing prov_gdf"
   ]
  },
  {
   "cell_type": "code",
   "execution_count": 221,
   "metadata": {
    "ExecuteTime": {
     "end_time": "2020-11-10T21:07:00.255320Z",
     "start_time": "2020-11-10T21:07:00.250662Z"
    }
   },
   "outputs": [],
   "source": [
    "sard_geo = prov_gdf[64:72]\n",
    "# sard_geo.plot()"
   ]
  },
  {
   "cell_type": "code",
   "execution_count": 248,
   "metadata": {
    "ExecuteTime": {
     "end_time": "2020-11-10T21:08:54.921313Z",
     "start_time": "2020-11-10T21:08:54.902206Z"
    }
   },
   "outputs": [
    {
     "data": {
      "text/html": [
       "<div>\n",
       "<style scoped>\n",
       "    .dataframe tbody tr th:only-of-type {\n",
       "        vertical-align: middle;\n",
       "    }\n",
       "\n",
       "    .dataframe tbody tr th {\n",
       "        vertical-align: top;\n",
       "    }\n",
       "\n",
       "    .dataframe thead th {\n",
       "        text-align: right;\n",
       "    }\n",
       "</style>\n",
       "<table border=\"1\" class=\"dataframe\">\n",
       "  <thead>\n",
       "    <tr style=\"text-align: right;\">\n",
       "      <th></th>\n",
       "      <th>adm1_code</th>\n",
       "      <th>iso_3166_2</th>\n",
       "      <th>name</th>\n",
       "      <th>gns_region</th>\n",
       "      <th>geometry</th>\n",
       "      <th>Code</th>\n",
       "    </tr>\n",
       "  </thead>\n",
       "  <tbody>\n",
       "    <tr>\n",
       "      <th>64</th>\n",
       "      <td>ITA-5371</td>\n",
       "      <td>IT-CI</td>\n",
       "      <td>Carbonia-Iglesias</td>\n",
       "      <td>None</td>\n",
       "      <td>MULTIPOLYGON (((8.45590 39.07355, 8.45802 39.0...</td>\n",
       "      <td>South_Sardinia</td>\n",
       "    </tr>\n",
       "    <tr>\n",
       "      <th>65</th>\n",
       "      <td>ITA-5374</td>\n",
       "      <td>IT-SS</td>\n",
       "      <td>Sassari</td>\n",
       "      <td>IT14</td>\n",
       "      <td>MULTIPOLYGON (((8.27475 41.05728, 8.25115 41.0...</td>\n",
       "      <td>Sass</td>\n",
       "    </tr>\n",
       "    <tr>\n",
       "      <th>66</th>\n",
       "      <td>ITA-5376</td>\n",
       "      <td>IT-NU</td>\n",
       "      <td>Nuoro</td>\n",
       "      <td>IT14</td>\n",
       "      <td>POLYGON ((9.74884 40.66034, 9.75318 40.60529, ...</td>\n",
       "      <td>NU</td>\n",
       "    </tr>\n",
       "    <tr>\n",
       "      <th>67</th>\n",
       "      <td>ITA-5375</td>\n",
       "      <td>IT-OT</td>\n",
       "      <td>Olbia-Tempio</td>\n",
       "      <td>None</td>\n",
       "      <td>MULTIPOLYGON (((8.81125 40.94083, 8.82252 40.9...</td>\n",
       "      <td>Sass</td>\n",
       "    </tr>\n",
       "    <tr>\n",
       "      <th>68</th>\n",
       "      <td>ITA-5373</td>\n",
       "      <td>IT-OR</td>\n",
       "      <td>Oristrano</td>\n",
       "      <td>IT14</td>\n",
       "      <td>POLYGON ((8.54852 39.69791, 8.56577 39.70108, ...</td>\n",
       "      <td>OR</td>\n",
       "    </tr>\n",
       "    <tr>\n",
       "      <th>69</th>\n",
       "      <td>ITA-5372</td>\n",
       "      <td>IT-VS</td>\n",
       "      <td>Medio Campidano</td>\n",
       "      <td>IT14</td>\n",
       "      <td>POLYGON ((8.39806 39.44650, 8.38950 39.46235, ...</td>\n",
       "      <td>South_Sardinia</td>\n",
       "    </tr>\n",
       "    <tr>\n",
       "      <th>70</th>\n",
       "      <td>ITA-5378</td>\n",
       "      <td>IT-CA</td>\n",
       "      <td>Cagliari</td>\n",
       "      <td>None</td>\n",
       "      <td>POLYGON ((9.64630 39.54909, 9.62843 39.50178, ...</td>\n",
       "      <td>South_Sardinia</td>\n",
       "    </tr>\n",
       "    <tr>\n",
       "      <th>71</th>\n",
       "      <td>ITA-5377</td>\n",
       "      <td>IT-OG</td>\n",
       "      <td>Ogliastra</td>\n",
       "      <td>None</td>\n",
       "      <td>POLYGON ((9.62718 40.22452, 9.62908 40.20555, ...</td>\n",
       "      <td>South_Sardinia</td>\n",
       "    </tr>\n",
       "  </tbody>\n",
       "</table>\n",
       "</div>"
      ],
      "text/plain": [
       "   adm1_code iso_3166_2               name gns_region  \\\n",
       "64  ITA-5371      IT-CI  Carbonia-Iglesias       None   \n",
       "65  ITA-5374      IT-SS            Sassari       IT14   \n",
       "66  ITA-5376      IT-NU              Nuoro       IT14   \n",
       "67  ITA-5375      IT-OT       Olbia-Tempio       None   \n",
       "68  ITA-5373      IT-OR          Oristrano       IT14   \n",
       "69  ITA-5372      IT-VS    Medio Campidano       IT14   \n",
       "70  ITA-5378      IT-CA           Cagliari       None   \n",
       "71  ITA-5377      IT-OG          Ogliastra       None   \n",
       "\n",
       "                                             geometry            Code  \n",
       "64  MULTIPOLYGON (((8.45590 39.07355, 8.45802 39.0...  South_Sardinia  \n",
       "65  MULTIPOLYGON (((8.27475 41.05728, 8.25115 41.0...            Sass  \n",
       "66  POLYGON ((9.74884 40.66034, 9.75318 40.60529, ...              NU  \n",
       "67  MULTIPOLYGON (((8.81125 40.94083, 8.82252 40.9...            Sass  \n",
       "68  POLYGON ((8.54852 39.69791, 8.56577 39.70108, ...              OR  \n",
       "69  POLYGON ((8.39806 39.44650, 8.38950 39.46235, ...  South_Sardinia  \n",
       "70  POLYGON ((9.64630 39.54909, 9.62843 39.50178, ...  South_Sardinia  \n",
       "71  POLYGON ((9.62718 40.22452, 9.62908 40.20555, ...  South_Sardinia  "
      ]
     },
     "execution_count": 248,
     "metadata": {},
     "output_type": "execute_result"
    }
   ],
   "source": [
    "sard_geo"
   ]
  },
  {
   "cell_type": "code",
   "execution_count": 222,
   "metadata": {
    "ExecuteTime": {
     "end_time": "2020-11-10T21:07:00.507597Z",
     "start_time": "2020-11-10T21:07:00.501144Z"
    }
   },
   "outputs": [],
   "source": [
    "prov_gdf['Code'][64] = 'South_Sardinia'\n",
    "prov_gdf['Code'][65] = 'Sass'\n",
    "prov_gdf['Code'][67] = 'Sass'\n",
    "prov_gdf['Code'][69] = 'South_Sardinia'\n",
    "prov_gdf['Code'][70] = 'South_Sardinia'\n",
    "prov_gdf['Code'][71] = 'South_Sardinia'"
   ]
  },
  {
   "cell_type": "code",
   "execution_count": 257,
   "metadata": {
    "ExecuteTime": {
     "end_time": "2020-11-10T21:11:38.942679Z",
     "start_time": "2020-11-10T21:11:38.900761Z"
    }
   },
   "outputs": [],
   "source": [
    "# merging the geometries of the new \"regions\"\n",
    "prov_gdf2 = prov_gdf.dissolve(by='Code')"
   ]
  },
  {
   "cell_type": "markdown",
   "metadata": {},
   "source": [
    "### Changing Provinces_df"
   ]
  },
  {
   "cell_type": "code",
   "execution_count": 249,
   "metadata": {
    "ExecuteTime": {
     "end_time": "2020-11-10T21:09:11.877241Z",
     "start_time": "2020-11-10T21:09:11.871620Z"
    }
   },
   "outputs": [
    {
     "data": {
      "text/plain": [
       "Index(['Type', 'Province', 'Code', 'Region', 'Macroregion',\n",
       "       'Population (2019)[3]', 'Area(km²)', 'Density(p/km²)'],\n",
       "      dtype='object')"
      ]
     },
     "execution_count": 249,
     "metadata": {},
     "output_type": "execute_result"
    }
   ],
   "source": [
    "provinces_df.columns"
   ]
  },
  {
   "cell_type": "code",
   "execution_count": 224,
   "metadata": {
    "ExecuteTime": {
     "end_time": "2020-11-10T21:07:01.166445Z",
     "start_time": "2020-11-10T21:07:01.160971Z"
    }
   },
   "outputs": [],
   "source": [
    "# provinces_df[provinces_df.Region == 'Sardinia']\n",
    "## new population for south_sardinia is 431038 + 350725 = 781763\n",
    "provinces_df['Code'][17] = 'South_Sardinia'\n",
    "provinces_df['Code'][83] = 'Sass'\n",
    "provinces_df.drop(index = 87, inplace=True)\n",
    "# provinces_df['Code'][87] = 'South_Sardinia'\n",
    "provinces_df['Population (2019)[3]'][17] = '781,763'\n",
    "# provinces_df['Population (2019)[3]'][87] = '781,763'"
   ]
  },
  {
   "cell_type": "markdown",
   "metadata": {},
   "source": [
    "## Merging the 2 Dataframes"
   ]
  },
  {
   "cell_type": "code",
   "execution_count": 225,
   "metadata": {
    "ExecuteTime": {
     "end_time": "2020-11-10T21:07:02.307775Z",
     "start_time": "2020-11-10T21:07:02.302471Z"
    }
   },
   "outputs": [
    {
     "data": {
      "text/plain": [
       "(106, 8)"
      ]
     },
     "execution_count": 225,
     "metadata": {},
     "output_type": "execute_result"
    }
   ],
   "source": [
    "provinces_df.shape"
   ]
  },
  {
   "cell_type": "code",
   "execution_count": 250,
   "metadata": {
    "ExecuteTime": {
     "end_time": "2020-11-10T21:09:29.361928Z",
     "start_time": "2020-11-10T21:09:29.346595Z"
    }
   },
   "outputs": [
    {
     "data": {
      "text/html": [
       "<div>\n",
       "<style scoped>\n",
       "    .dataframe tbody tr th:only-of-type {\n",
       "        vertical-align: middle;\n",
       "    }\n",
       "\n",
       "    .dataframe tbody tr th {\n",
       "        vertical-align: top;\n",
       "    }\n",
       "\n",
       "    .dataframe thead th {\n",
       "        text-align: right;\n",
       "    }\n",
       "</style>\n",
       "<table border=\"1\" class=\"dataframe\">\n",
       "  <thead>\n",
       "    <tr style=\"text-align: right;\">\n",
       "      <th></th>\n",
       "      <th>adm1_code</th>\n",
       "      <th>iso_3166_2</th>\n",
       "      <th>name</th>\n",
       "      <th>gns_region</th>\n",
       "      <th>geometry</th>\n",
       "      <th>Code</th>\n",
       "    </tr>\n",
       "  </thead>\n",
       "  <tbody>\n",
       "    <tr>\n",
       "      <th>0</th>\n",
       "      <td>ITA-5442</td>\n",
       "      <td>IT-AO</td>\n",
       "      <td>Aoste</td>\n",
       "      <td>IT19</td>\n",
       "      <td>POLYGON ((7.02208 45.92526, 7.06694 45.89022, ...</td>\n",
       "      <td>AO</td>\n",
       "    </tr>\n",
       "    <tr>\n",
       "      <th>1</th>\n",
       "      <td>ITA-5437</td>\n",
       "      <td>IT-VB</td>\n",
       "      <td>Verbano-Cusio-Ossola</td>\n",
       "      <td>IT12</td>\n",
       "      <td>POLYGON ((7.84962 45.93971, 7.87020 45.94037, ...</td>\n",
       "      <td>VB</td>\n",
       "    </tr>\n",
       "  </tbody>\n",
       "</table>\n",
       "</div>"
      ],
      "text/plain": [
       "  adm1_code iso_3166_2                  name gns_region  \\\n",
       "0  ITA-5442      IT-AO                 Aoste       IT19   \n",
       "1  ITA-5437      IT-VB  Verbano-Cusio-Ossola       IT12   \n",
       "\n",
       "                                            geometry Code  \n",
       "0  POLYGON ((7.02208 45.92526, 7.06694 45.89022, ...   AO  \n",
       "1  POLYGON ((7.84962 45.93971, 7.87020 45.94037, ...   VB  "
      ]
     },
     "execution_count": 250,
     "metadata": {},
     "output_type": "execute_result"
    }
   ],
   "source": [
    "prov_gdf.head(2)"
   ]
  },
  {
   "cell_type": "code",
   "execution_count": 258,
   "metadata": {
    "ExecuteTime": {
     "end_time": "2020-11-10T21:11:45.682955Z",
     "start_time": "2020-11-10T21:11:45.672270Z"
    }
   },
   "outputs": [],
   "source": [
    "provinces_data_gdf = prov_gdf2.merge(provinces_df, on='Code', how='inner')"
   ]
  },
  {
   "cell_type": "code",
   "execution_count": 259,
   "metadata": {
    "ExecuteTime": {
     "end_time": "2020-11-10T21:11:45.938746Z",
     "start_time": "2020-11-10T21:11:45.932075Z"
    },
    "scrolled": false
   },
   "outputs": [],
   "source": [
    "provinces_data_gdf['Population_no_commas'] = [x.replace(',', '') \n",
    "                                              for x in provinces_data_gdf['Population (2019)[3]']]\n",
    "provinces_data_gdf['Population'] = provinces_data_gdf['Population_no_commas'].astype(float)"
   ]
  },
  {
   "cell_type": "code",
   "execution_count": null,
   "metadata": {},
   "outputs": [],
   "source": [
    "# Imports\n",
    "\n",
    "import geopandas as gpd\n",
    "import pandas as pd\n",
    "import geoplot as gplt\n",
    "import geoplot.crs as gcrs\n",
    "import mapclassify as mc\n",
    "import seaborn as sns\n",
    "from shapely.ops import unary_union\n",
    "import warnings\n",
    "warnings.filterwarnings('ignore')\n",
    "import matplotlib.pyplot as plt\n",
    "from benfordslaw import benfordslaw\n",
    "from shapely.geometry import Point\n",
    "import matplotlib.pyplot as plt\n",
    "\n",
    "prov_gdf = gpd.read_file(\"../data/it_provinces_shapes.geojson\", driver='geojson')\n",
    "provinces_df = pd.read_csv(\"../data/provinces.csv\")\n",
    "\n",
    "pip install benfordslaw\n",
    "\n",
    "# Fixing dataframes\n",
    "\n",
    "# fixing provinces_df\n",
    "provinces_df.drop(index = 107, inplace=True)\n",
    "provinces_df.Code[57] = 'NA'\n",
    "\n",
    "# all codes are 2 letters \n",
    "code_list = list(provinces_df.Code.unique())\n",
    "for idx, x in enumerate(code_list):\n",
    "#     if type(x) != str:\n",
    "#         print(idx)\n",
    "    if len(x) > 2:\n",
    "        print(x)\n",
    "\n",
    "# preparing to combine prov_gdf and provinces_df\n",
    "prov_gdf['Code'] = [x[-2:] for x in prov_gdf['iso_3166_2']]\n",
    "\n",
    "### Dropping more columns from prov_gdf\n",
    "\n",
    "useless_cols = [x for x in prov_gdf.columns if (prov_gdf[x].nunique() == 1) ]\n",
    "prov_gdf.drop(columns= useless_cols, inplace=True)\n",
    "\n",
    "### Dropping columns from provinces_df\n",
    "\n",
    "# useless_cols2 = [x for x in provinces_df.columns if (provinces_df[x].nunique() == 1) ]\n",
    "provinces_df.drop(columns = ['Capital', 'Comuni', 'President'], inplace=True)\n",
    "\n",
    "## Sardinian regions\n",
    "\n",
    "### Changing prov_gdf\n",
    "\n",
    "sard_geo = prov_gdf[64:72]\n",
    "# sard_geo.plot()\n",
    "\n",
    "sard_geo\n",
    "\n",
    "prov_gdf['Code'][64] = 'South_Sardinia'\n",
    "prov_gdf['Code'][65] = 'Sass'\n",
    "prov_gdf['Code'][67] = 'Sass'\n",
    "prov_gdf['Code'][69] = 'South_Sardinia'\n",
    "prov_gdf['Code'][70] = 'South_Sardinia'\n",
    "prov_gdf['Code'][71] = 'South_Sardinia'\n",
    "\n",
    "# merging the geometries of the new \"regions\"\n",
    "prov_gdf2 = prov_gdf.dissolve(by='Code')\n",
    "\n",
    "### Changing Provinces_df\n",
    "\n",
    "provinces_df.columns\n",
    "\n",
    "# provinces_df[provinces_df.Region == 'Sardinia']\n",
    "## new population for south_sardinia is 431038 + 350725 = 781763\n",
    "provinces_df['Code'][17] = 'South_Sardinia'\n",
    "provinces_df['Code'][83] = 'Sass'\n",
    "provinces_df.drop(index = 87, inplace=True)\n",
    "# provinces_df['Code'][87] = 'South_Sardinia'\n",
    "provinces_df['Population (2019)[3]'][17] = '781,763'\n",
    "# provinces_df['Population (2019)[3]'][87] = '781,763'\n",
    "\n",
    "## Merging the 2 Dataframes\n",
    "\n",
    "provinces_df.shape\n",
    "\n",
    "prov_gdf.head(2)\n",
    "\n",
    "provinces_data_gdf = prov_gdf2.merge(provinces_df, on='Code', how='inner')\n",
    "\n",
    "provinces_data_gdf['Population_no_commas'] = [x.replace(',', '') \n",
    "                                              for x in provinces_data_gdf['Population (2019)[3]']]\n",
    "provinces_data_gdf['Population'] = provinces_data_gdf['Population_no_commas'].astype(float)"
   ]
  }
 ],
 "metadata": {
  "kernelspec": {
   "display_name": "Python [conda env:pysparkenv]",
   "language": "python",
   "name": "conda-env-pysparkenv-py"
  },
  "language_info": {
   "codemirror_mode": {
    "name": "ipython",
    "version": 3
   },
   "file_extension": ".py",
   "mimetype": "text/x-python",
   "name": "python",
   "nbconvert_exporter": "python",
   "pygments_lexer": "ipython3",
   "version": "3.7.6"
  },
  "toc": {
   "base_numbering": 1,
   "nav_menu": {},
   "number_sections": true,
   "sideBar": true,
   "skip_h1_title": false,
   "title_cell": "Table of Contents",
   "title_sidebar": "Contents",
   "toc_cell": false,
   "toc_position": {},
   "toc_section_display": true,
   "toc_window_display": true
  },
  "varInspector": {
   "cols": {
    "lenName": 16,
    "lenType": 16,
    "lenVar": 40
   },
   "kernels_config": {
    "python": {
     "delete_cmd_postfix": "",
     "delete_cmd_prefix": "del ",
     "library": "var_list.py",
     "varRefreshCmd": "print(var_dic_list())"
    },
    "r": {
     "delete_cmd_postfix": ") ",
     "delete_cmd_prefix": "rm(",
     "library": "var_list.r",
     "varRefreshCmd": "cat(var_dic_list()) "
    }
   },
   "types_to_exclude": [
    "module",
    "function",
    "builtin_function_or_method",
    "instance",
    "_Feature"
   ],
   "window_display": false
  }
 },
 "nbformat": 4,
 "nbformat_minor": 2
}
