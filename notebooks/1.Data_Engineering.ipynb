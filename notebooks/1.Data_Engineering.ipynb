{
 "cells": [
  {
   "cell_type": "markdown",
   "metadata": {},
   "source": [
    "# Imports"
   ]
  },
  {
   "cell_type": "markdown",
   "metadata": {},
   "source": [
    "## Libraries"
   ]
  },
  {
   "cell_type": "code",
   "execution_count": 138,
   "metadata": {
    "ExecuteTime": {
     "end_time": "2020-11-13T20:24:39.607796Z",
     "start_time": "2020-11-13T20:24:39.604276Z"
    }
   },
   "outputs": [],
   "source": [
    "import geopandas as gpd\n",
    "import pandas as pd\n",
    "import warnings\n",
    "warnings.filterwarnings('ignore')"
   ]
  },
  {
   "cell_type": "markdown",
   "metadata": {},
   "source": [
    "## Data"
   ]
  },
  {
   "cell_type": "code",
   "execution_count": 139,
   "metadata": {
    "ExecuteTime": {
     "end_time": "2020-11-13T20:24:39.725465Z",
     "start_time": "2020-11-13T20:24:39.610953Z"
    }
   },
   "outputs": [],
   "source": [
    "prov_gdf = gpd.read_file(\"../data/it_provinces_shapes.geojson\", driver='geojson')\n",
    "provinces_df = pd.read_csv(\"../data/provinces.csv\", skipfooter=1)"
   ]
  },
  {
   "cell_type": "markdown",
   "metadata": {},
   "source": [
    "# Fixing dataframes"
   ]
  },
  {
   "cell_type": "markdown",
   "metadata": {},
   "source": [
    "## Incorrect Value"
   ]
  },
  {
   "cell_type": "code",
   "execution_count": 140,
   "metadata": {
    "ExecuteTime": {
     "end_time": "2020-11-13T20:24:39.731989Z",
     "start_time": "2020-11-13T20:24:39.727908Z"
    }
   },
   "outputs": [],
   "source": [
    "naples_location = provinces_df[provinces_df['Capital'] == \"Naples\"].index[0]\n",
    "provinces_df.Code[naples_location] = 'NA'"
   ]
  },
  {
   "cell_type": "code",
   "execution_count": 141,
   "metadata": {
    "ExecuteTime": {
     "end_time": "2020-11-13T20:24:39.737671Z",
     "start_time": "2020-11-13T20:24:39.734017Z"
    },
    "code_folding": [
     1
    ]
   },
   "outputs": [],
   "source": [
    "# Checking that all codes are 2 letters \n",
    "code_list = list(provinces_df.Code.unique())\n",
    "for idx, x in enumerate(code_list):\n",
    "    if type(x) != str:\n",
    "        print(idx)\n",
    "    if len(x) > 2:\n",
    "        print(x)"
   ]
  },
  {
   "cell_type": "markdown",
   "metadata": {},
   "source": [
    "## Feature Engineering"
   ]
  },
  {
   "cell_type": "code",
   "execution_count": 142,
   "metadata": {
    "ExecuteTime": {
     "end_time": "2020-11-13T20:24:39.742516Z",
     "start_time": "2020-11-13T20:24:39.739188Z"
    }
   },
   "outputs": [],
   "source": [
    "# preparing to combine prov_gdf and provinces_df\n",
    "prov_gdf['Code'] = [x[-2:] for x in prov_gdf['iso_3166_2']]"
   ]
  },
  {
   "cell_type": "markdown",
   "metadata": {},
   "source": [
    "## Datatype Correction"
   ]
  },
  {
   "cell_type": "code",
   "execution_count": 143,
   "metadata": {
    "ExecuteTime": {
     "end_time": "2020-11-13T20:24:39.748081Z",
     "start_time": "2020-11-13T20:24:39.744225Z"
    }
   },
   "outputs": [
    {
     "data": {
      "text/plain": [
       "Index(['Type', 'Province', 'Capital', 'Code', 'Region', 'Macroregion',\n",
       "       'Population (2019)[3]', 'Area(km²)', 'Density(p/km²)', 'Comuni',\n",
       "       'President'],\n",
       "      dtype='object')"
      ]
     },
     "execution_count": 143,
     "metadata": {},
     "output_type": "execute_result"
    }
   ],
   "source": [
    "provinces_df.columns"
   ]
  },
  {
   "cell_type": "code",
   "execution_count": 144,
   "metadata": {
    "ExecuteTime": {
     "end_time": "2020-11-13T20:24:39.757787Z",
     "start_time": "2020-11-13T20:24:39.751130Z"
    },
    "scrolled": true
   },
   "outputs": [],
   "source": [
    "provinces_df['Population'] = provinces_df['Population (2019)[3]'].str.replace(',', '').astype(int)\n",
    "provinces_df['Area'] = provinces_df['Area(km²)'].str.replace(',', '').astype(int)\n",
    "provinces_df['Density'] = provinces_df['Density(p/km²)'].str.replace(',', '').astype(int)"
   ]
  },
  {
   "cell_type": "markdown",
   "metadata": {},
   "source": [
    "## Dropping Unnecessary Columns"
   ]
  },
  {
   "cell_type": "markdown",
   "metadata": {},
   "source": [
    "### From prov_gdf"
   ]
  },
  {
   "cell_type": "code",
   "execution_count": 145,
   "metadata": {
    "ExecuteTime": {
     "end_time": "2020-11-13T20:24:39.773666Z",
     "start_time": "2020-11-13T20:24:39.760087Z"
    }
   },
   "outputs": [],
   "source": [
    "unnecessary_cols = [x for x in prov_gdf.columns if (prov_gdf[x].nunique() == 1) ] # 1 value columns\n",
    "unnecessary_cols.extend(['adm1_code', 'iso_3166_2', 'gns_region'])\n",
    "prov_gdf.drop(columns= unnecessary_cols, inplace=True)"
   ]
  },
  {
   "cell_type": "markdown",
   "metadata": {},
   "source": [
    "### From provinces_df"
   ]
  },
  {
   "cell_type": "code",
   "execution_count": 146,
   "metadata": {
    "ExecuteTime": {
     "end_time": "2020-11-13T20:24:39.779090Z",
     "start_time": "2020-11-13T20:24:39.775140Z"
    }
   },
   "outputs": [],
   "source": [
    "provinces_df.drop(columns = ['Type', 'Capital', 'Comuni', 'President'], inplace=True)"
   ]
  },
  {
   "cell_type": "markdown",
   "metadata": {},
   "source": [
    "## Sardinian regions"
   ]
  },
  {
   "cell_type": "markdown",
   "metadata": {},
   "source": [
    "Due to a consolidation of the provinces in 2014, Sardinia went from 8 provinces, to 4. The geodataframe still represents the pre-2014 structure. To correct for this, I will combine the provinces geometries when possible (in the case of \"Olbia-Tempio\" being consolidated into \"Sassari\"). Only for the current provinces of Cagliari and South Sardinia does this run into an issue since the geometries changed in 2014, too. Therefore, I will combine the pre-2014 provinces that make up these two provinces and treat both as a single \"South_Sardinia\" province. "
   ]
  },
  {
   "cell_type": "markdown",
   "metadata": {},
   "source": [
    "### Changing prov_gdf (geometries)"
   ]
  },
  {
   "cell_type": "code",
   "execution_count": 147,
   "metadata": {
    "ExecuteTime": {
     "end_time": "2020-11-13T20:24:39.784375Z",
     "start_time": "2020-11-13T20:24:39.780965Z"
    }
   },
   "outputs": [],
   "source": [
    "# viewing the sardinian regions\n",
    "sard_geo = prov_gdf[64:72]"
   ]
  },
  {
   "cell_type": "code",
   "execution_count": 148,
   "metadata": {
    "ExecuteTime": {
     "end_time": "2020-11-13T20:24:39.789894Z",
     "start_time": "2020-11-13T20:24:39.786037Z"
    }
   },
   "outputs": [],
   "source": [
    "prov_gdf['Code'][64] = 'South_Sardinia'\n",
    "prov_gdf['Code'][65] = 'Sass'\n",
    "prov_gdf['Code'][67] = 'Sass'\n",
    "prov_gdf['Code'][69] = 'South_Sardinia'\n",
    "prov_gdf['Code'][70] = 'South_Sardinia'\n",
    "prov_gdf['Code'][71] = 'South_Sardinia'"
   ]
  },
  {
   "cell_type": "code",
   "execution_count": 149,
   "metadata": {
    "ExecuteTime": {
     "end_time": "2020-11-13T20:24:39.823098Z",
     "start_time": "2020-11-13T20:24:39.791486Z"
    }
   },
   "outputs": [],
   "source": [
    "# merging the geometries of the new \"regions\"\n",
    "prov_gdf2 = prov_gdf.dissolve(by='Code')"
   ]
  },
  {
   "cell_type": "markdown",
   "metadata": {},
   "source": [
    "### Changing Provinces_df (populations)"
   ]
  },
  {
   "cell_type": "code",
   "execution_count": 150,
   "metadata": {
    "ExecuteTime": {
     "end_time": "2020-11-13T20:24:39.828212Z",
     "start_time": "2020-11-13T20:24:39.824921Z"
    }
   },
   "outputs": [],
   "source": [
    "south_sard_new_population = provinces_df['Population'][17] + provinces_df['Population'][83]"
   ]
  },
  {
   "cell_type": "code",
   "execution_count": 151,
   "metadata": {
    "ExecuteTime": {
     "end_time": "2020-11-13T20:24:39.840017Z",
     "start_time": "2020-11-13T20:24:39.829963Z"
    }
   },
   "outputs": [
    {
     "data": {
      "text/html": [
       "<div>\n",
       "<style scoped>\n",
       "    .dataframe tbody tr th:only-of-type {\n",
       "        vertical-align: middle;\n",
       "    }\n",
       "\n",
       "    .dataframe tbody tr th {\n",
       "        vertical-align: top;\n",
       "    }\n",
       "\n",
       "    .dataframe thead th {\n",
       "        text-align: right;\n",
       "    }\n",
       "</style>\n",
       "<table border=\"1\" class=\"dataframe\">\n",
       "  <thead>\n",
       "    <tr style=\"text-align: right;\">\n",
       "      <th></th>\n",
       "      <th>Province</th>\n",
       "      <th>Code</th>\n",
       "      <th>Region</th>\n",
       "      <th>Macroregion</th>\n",
       "      <th>Population (2019)[3]</th>\n",
       "      <th>Area(km²)</th>\n",
       "      <th>Density(p/km²)</th>\n",
       "      <th>Population</th>\n",
       "      <th>Area</th>\n",
       "      <th>Density</th>\n",
       "    </tr>\n",
       "  </thead>\n",
       "  <tbody>\n",
       "    <tr>\n",
       "      <th>85</th>\n",
       "      <td>Siena</td>\n",
       "      <td>SI</td>\n",
       "      <td>Tuscany</td>\n",
       "      <td>Centre</td>\n",
       "      <td>267,197</td>\n",
       "      <td>3,823</td>\n",
       "      <td>71</td>\n",
       "      <td>267197</td>\n",
       "      <td>3823</td>\n",
       "      <td>71</td>\n",
       "    </tr>\n",
       "    <tr>\n",
       "      <th>86</th>\n",
       "      <td>Sondrio</td>\n",
       "      <td>SO</td>\n",
       "      <td>Lombardy</td>\n",
       "      <td>North-West</td>\n",
       "      <td>181,095</td>\n",
       "      <td>3,210</td>\n",
       "      <td>57</td>\n",
       "      <td>181095</td>\n",
       "      <td>3210</td>\n",
       "      <td>57</td>\n",
       "    </tr>\n",
       "    <tr>\n",
       "      <th>87</th>\n",
       "      <td>South Sardinia</td>\n",
       "      <td>SU</td>\n",
       "      <td>Sardinia</td>\n",
       "      <td>Insular</td>\n",
       "      <td>350,725</td>\n",
       "      <td>6,530</td>\n",
       "      <td>54</td>\n",
       "      <td>350725</td>\n",
       "      <td>6530</td>\n",
       "      <td>54</td>\n",
       "    </tr>\n",
       "    <tr>\n",
       "      <th>88</th>\n",
       "      <td>South Tyrol</td>\n",
       "      <td>BZ</td>\n",
       "      <td>Trentino-South Tyrol</td>\n",
       "      <td>North-East</td>\n",
       "      <td>531,178</td>\n",
       "      <td>7,400</td>\n",
       "      <td>69</td>\n",
       "      <td>531178</td>\n",
       "      <td>7400</td>\n",
       "      <td>69</td>\n",
       "    </tr>\n",
       "  </tbody>\n",
       "</table>\n",
       "</div>"
      ],
      "text/plain": [
       "          Province Code                Region Macroregion  \\\n",
       "85           Siena   SI               Tuscany      Centre   \n",
       "86         Sondrio   SO              Lombardy  North-West   \n",
       "87  South Sardinia   SU              Sardinia     Insular   \n",
       "88     South Tyrol   BZ  Trentino-South Tyrol  North-East   \n",
       "\n",
       "   Population (2019)[3] Area(km²) Density(p/km²)  Population  Area  Density  \n",
       "85              267,197     3,823             71      267197  3823       71  \n",
       "86              181,095     3,210             57      181095  3210       57  \n",
       "87              350,725     6,530             54      350725  6530       54  \n",
       "88              531,178     7,400             69      531178  7400       69  "
      ]
     },
     "execution_count": 151,
     "metadata": {},
     "output_type": "execute_result"
    }
   ],
   "source": [
    "provinces_df[85:89]"
   ]
  },
  {
   "cell_type": "code",
   "execution_count": 152,
   "metadata": {
    "ExecuteTime": {
     "end_time": "2020-11-13T20:24:39.845897Z",
     "start_time": "2020-11-13T20:24:39.841536Z"
    }
   },
   "outputs": [],
   "source": [
    "## new population for south_sardinia is 431038 + 350725 = 781763\n",
    "provinces_df['Code'][17] = 'South_Sardinia'\n",
    "provinces_df['Code'][83] = 'Sass'\n",
    "provinces_df.drop(index = 87, inplace=True)\n",
    "provinces_df['Population'][17] = south_sard_new_population"
   ]
  },
  {
   "cell_type": "markdown",
   "metadata": {},
   "source": [
    "#### Merging Geometries"
   ]
  },
  {
   "cell_type": "code",
   "execution_count": 153,
   "metadata": {
    "ExecuteTime": {
     "end_time": "2020-11-13T20:24:39.878505Z",
     "start_time": "2020-11-13T20:24:39.847450Z"
    }
   },
   "outputs": [],
   "source": [
    "prov_gdf2 = prov_gdf.dissolve(by='Code')"
   ]
  },
  {
   "cell_type": "markdown",
   "metadata": {},
   "source": [
    "## Merging the 2 Dataframes"
   ]
  },
  {
   "cell_type": "code",
   "execution_count": 154,
   "metadata": {
    "ExecuteTime": {
     "end_time": "2020-11-13T20:24:39.884085Z",
     "start_time": "2020-11-13T20:24:39.880296Z"
    }
   },
   "outputs": [
    {
     "data": {
      "text/plain": [
       "Index(['geometry', 'name'], dtype='object')"
      ]
     },
     "execution_count": 154,
     "metadata": {},
     "output_type": "execute_result"
    }
   ],
   "source": [
    "prov_gdf2.columns"
   ]
  },
  {
   "cell_type": "code",
   "execution_count": 155,
   "metadata": {
    "ExecuteTime": {
     "end_time": "2020-11-13T20:24:39.888765Z",
     "start_time": "2020-11-13T20:24:39.885717Z"
    }
   },
   "outputs": [
    {
     "name": "stdout",
     "output_type": "stream",
     "text": [
      "(106, 10)\n",
      "(106, 2)\n"
     ]
    }
   ],
   "source": [
    "print(provinces_df.shape)\n",
    "print(prov_gdf2.shape)"
   ]
  },
  {
   "cell_type": "code",
   "execution_count": 156,
   "metadata": {
    "ExecuteTime": {
     "end_time": "2020-11-13T20:24:39.903161Z",
     "start_time": "2020-11-13T20:24:39.893886Z"
    }
   },
   "outputs": [
    {
     "data": {
      "text/plain": [
       "(106, 12)"
      ]
     },
     "execution_count": 156,
     "metadata": {},
     "output_type": "execute_result"
    }
   ],
   "source": [
    "provinces_data_gdf = prov_gdf2.merge(provinces_df, on='Code', how='inner')\n",
    "provinces_data_gdf.shape"
   ]
  },
  {
   "cell_type": "markdown",
   "metadata": {},
   "source": [
    "# Saving DataFrame"
   ]
  },
  {
   "cell_type": "code",
   "execution_count": 157,
   "metadata": {
    "ExecuteTime": {
     "end_time": "2020-11-13T20:24:40.043908Z",
     "start_time": "2020-11-13T20:24:39.907639Z"
    }
   },
   "outputs": [],
   "source": [
    "provinces_data_gdf.to_file(\"../data/provinces_gdf.geojson\", driver='GeoJSON')"
   ]
  }
 ],
 "metadata": {
  "kernelspec": {
   "display_name": "Python [conda env:pysparkenv]",
   "language": "python",
   "name": "conda-env-pysparkenv-py"
  },
  "language_info": {
   "codemirror_mode": {
    "name": "ipython",
    "version": 3
   },
   "file_extension": ".py",
   "mimetype": "text/x-python",
   "name": "python",
   "nbconvert_exporter": "python",
   "pygments_lexer": "ipython3",
   "version": "3.7.6"
  },
  "toc": {
   "base_numbering": 1,
   "nav_menu": {},
   "number_sections": true,
   "sideBar": true,
   "skip_h1_title": false,
   "title_cell": "Table of Contents",
   "title_sidebar": "Contents",
   "toc_cell": false,
   "toc_position": {
    "height": "calc(100% - 180px)",
    "left": "10px",
    "top": "150px",
    "width": "360.390625px"
   },
   "toc_section_display": true,
   "toc_window_display": true
  },
  "varInspector": {
   "cols": {
    "lenName": 16,
    "lenType": 16,
    "lenVar": 40
   },
   "kernels_config": {
    "python": {
     "delete_cmd_postfix": "",
     "delete_cmd_prefix": "del ",
     "library": "var_list.py",
     "varRefreshCmd": "print(var_dic_list())"
    },
    "r": {
     "delete_cmd_postfix": ") ",
     "delete_cmd_prefix": "rm(",
     "library": "var_list.r",
     "varRefreshCmd": "cat(var_dic_list()) "
    }
   },
   "position": {
    "height": "522px",
    "left": "1341px",
    "right": "20px",
    "top": "120px",
    "width": "441px"
   },
   "types_to_exclude": [
    "module",
    "function",
    "builtin_function_or_method",
    "instance",
    "_Feature"
   ],
   "window_display": false
  }
 },
 "nbformat": 4,
 "nbformat_minor": 2
}
